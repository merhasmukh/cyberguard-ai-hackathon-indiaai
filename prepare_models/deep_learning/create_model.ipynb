{
 "cells": [
  {
   "cell_type": "code",
   "execution_count": 8,
   "metadata": {},
   "outputs": [
    {
     "name": "stdout",
     "output_type": "stream",
     "text": [
      "Epoch 1/5\n"
     ]
    },
    {
     "name": "stderr",
     "output_type": "stream",
     "text": [
      "/home/admin/Desktop/AI_Hackathon/venv/lib/python3.12/site-packages/keras/src/layers/core/embedding.py:90: UserWarning: Argument `input_length` is deprecated. Just remove it.\n",
      "  warnings.warn(\n"
     ]
    },
    {
     "name": "stdout",
     "output_type": "stream",
     "text": [
      "\u001b[1m3123/3123\u001b[0m \u001b[32m━━━━━━━━━━━━━━━━━━━━\u001b[0m\u001b[37m\u001b[0m \u001b[1m195s\u001b[0m 62ms/step - category_output_accuracy: 0.7001 - category_output_loss: 0.9487 - loss: 3.1381 - subcategory_output_accuracy: 0.3412 - subcategory_output_loss: 2.1894 - val_category_output_accuracy: 0.7457 - val_category_output_loss: 0.7055 - val_loss: 2.3814 - val_subcategory_output_accuracy: 0.4836 - val_subcategory_output_loss: 1.6756\n",
      "Epoch 2/5\n",
      "\u001b[1m3123/3123\u001b[0m \u001b[32m━━━━━━━━━━━━━━━━━━━━\u001b[0m\u001b[37m\u001b[0m \u001b[1m193s\u001b[0m 62ms/step - category_output_accuracy: 0.7481 - category_output_loss: 0.7078 - loss: 2.3780 - subcategory_output_accuracy: 0.4936 - subcategory_output_loss: 1.6701 - val_category_output_accuracy: 0.7493 - val_category_output_loss: 0.6622 - val_loss: 2.2044 - val_subcategory_output_accuracy: 0.5252 - val_subcategory_output_loss: 1.5420\n",
      "Epoch 3/5\n",
      "\u001b[1m3123/3123\u001b[0m \u001b[32m━━━━━━━━━━━━━━━━━━━━\u001b[0m\u001b[37m\u001b[0m \u001b[1m370s\u001b[0m 119ms/step - category_output_accuracy: 0.7592 - category_output_loss: 0.6522 - loss: 2.1991 - subcategory_output_accuracy: 0.5308 - subcategory_output_loss: 1.5469 - val_category_output_accuracy: 0.7602 - val_category_output_loss: 0.6485 - val_loss: 2.1494 - val_subcategory_output_accuracy: 0.5372 - val_subcategory_output_loss: 1.5007\n",
      "Epoch 4/5\n",
      "\u001b[1m3123/3123\u001b[0m \u001b[32m━━━━━━━━━━━━━━━━━━━━\u001b[0m\u001b[37m\u001b[0m \u001b[1m254s\u001b[0m 81ms/step - category_output_accuracy: 0.7720 - category_output_loss: 0.6174 - loss: 2.0826 - subcategory_output_accuracy: 0.5497 - subcategory_output_loss: 1.4651 - val_category_output_accuracy: 0.7645 - val_category_output_loss: 0.6370 - val_loss: 2.1233 - val_subcategory_output_accuracy: 0.5418 - val_subcategory_output_loss: 1.4861\n",
      "Epoch 5/5\n",
      "\u001b[1m3123/3123\u001b[0m \u001b[32m━━━━━━━━━━━━━━━━━━━━\u001b[0m\u001b[37m\u001b[0m \u001b[1m193s\u001b[0m 62ms/step - category_output_accuracy: 0.7841 - category_output_loss: 0.5854 - loss: 2.0009 - subcategory_output_accuracy: 0.5637 - subcategory_output_loss: 1.4156 - val_category_output_accuracy: 0.7647 - val_category_output_loss: 0.6488 - val_loss: 2.1449 - val_subcategory_output_accuracy: 0.5417 - val_subcategory_output_loss: 1.4960\n"
     ]
    },
    {
     "data": {
      "text/plain": [
       "<keras.src.callbacks.history.History at 0x7cf274753fe0>"
      ]
     },
     "execution_count": 8,
     "metadata": {},
     "output_type": "execute_result"
    }
   ],
   "source": [
    "import pandas as pd\n",
    "from sklearn.model_selection import train_test_split\n",
    "from sklearn.preprocessing import LabelEncoder\n",
    "from tensorflow.keras.models import Model\n",
    "from tensorflow.keras.layers import Dense, Dropout, Embedding, LSTM, Input\n",
    "from tensorflow.keras.preprocessing.text import Tokenizer\n",
    "from tensorflow.keras.preprocessing.sequence import pad_sequences\n",
    "\n",
    "# Load your datasets\n",
    "df_train = pd.read_csv('../../processed_data/processed_train.csv')  \n",
    "df_test = pd.read_csv('../../processed_data/processed_test.csv')  \n",
    "\n",
    "# Combine both datasets\n",
    "df = pd.concat([df_train, df_test], ignore_index=True)\n",
    "\n",
    "# Preprocess text data\n",
    "max_words = 5000\n",
    "max_len = 200\n",
    "tokenizer = Tokenizer(num_words=max_words, lower=True)\n",
    "tokenizer.fit_on_texts(df['crimeaditionalinfo'])\n",
    "\n",
    "X = tokenizer.texts_to_sequences(df['crimeaditionalinfo'])\n",
    "X = pad_sequences(X, maxlen=max_len)\n",
    "\n",
    "# Encode category and subcategory labels\n",
    "label_encoder_category = LabelEncoder()\n",
    "y_category = label_encoder_category.fit_transform(df['category'])\n",
    "\n",
    "label_encoder_subcategory = LabelEncoder()\n",
    "y_subcategory = label_encoder_subcategory.fit_transform(df['sub_category'])\n",
    "\n",
    "# Split the combined dataset into training and testing sets\n",
    "X_train, X_test, y_train_category, y_test_category, y_train_subcategory, y_test_subcategory = train_test_split(\n",
    "    X, y_category, y_subcategory, test_size=0.2, random_state=42\n",
    ")\n",
    "\n",
    "# Build a multi-output model\n",
    "input_layer = Input(shape=(max_len,))\n",
    "embedding_layer = Embedding(max_words, 128, input_length=max_len)(input_layer)\n",
    "lstm_layer = LSTM(64, dropout=0.2, recurrent_dropout=0.2)(embedding_layer)\n",
    "dense_layer = Dense(64, activation='relu')(lstm_layer)\n",
    "dropout_layer = Dropout(0.5)(dense_layer)\n",
    "\n",
    "# Output layer for category\n",
    "output_category = Dense(len(label_encoder_category.classes_), activation='softmax', name='category_output')(dropout_layer)\n",
    "\n",
    "# Output layer for sub-category\n",
    "output_subcategory = Dense(len(label_encoder_subcategory.classes_), activation='softmax', name='subcategory_output')(dropout_layer)\n",
    "\n",
    "# Combine into a model\n",
    "model = Model(inputs=input_layer, outputs=[output_category, output_subcategory])\n",
    "\n",
    "# Compile the model\n",
    "# Compile the model\n",
    "model.compile(\n",
    "    loss={\n",
    "        'category_output': 'sparse_categorical_crossentropy', \n",
    "        'subcategory_output': 'sparse_categorical_crossentropy'\n",
    "    },\n",
    "    optimizer='adam',\n",
    "    metrics={\n",
    "        'category_output': 'accuracy', \n",
    "        'subcategory_output': 'accuracy'\n",
    "    }\n",
    ")\n",
    "# Train the model\n",
    "model.fit(\n",
    "    X_train, \n",
    "    {'category_output': y_train_category, 'subcategory_output': y_train_subcategory},\n",
    "    batch_size=32,\n",
    "    epochs=5,\n",
    "    validation_data=(X_test, {'category_output': y_test_category, 'subcategory_output': y_test_subcategory})\n",
    ")\n"
   ]
  },
  {
   "cell_type": "code",
   "execution_count": 10,
   "metadata": {},
   "outputs": [
    {
     "name": "stderr",
     "output_type": "stream",
     "text": [
      "WARNING:absl:You are saving your model as an HDF5 file via `model.save()` or `keras.saving.save_model(model)`. This file format is considered legacy. We recommend using instead the native Keras format, e.g. `model.save('my_model.keras')` or `keras.saving.save_model(model, 'my_model.keras')`. \n"
     ]
    }
   ],
   "source": [
    "# Save the entire model to a file\n",
    "model.save('multi_output_model.h5')\n"
   ]
  },
  {
   "cell_type": "code",
   "execution_count": 16,
   "metadata": {},
   "outputs": [],
   "source": [
    "import pickle\n",
    "\n",
    "with open('tokenizer.pickle', 'wb') as handle:\n",
    "    pickle.dump(tokenizer, handle, protocol=pickle.HIGHEST_PROTOCOL)"
   ]
  },
  {
   "cell_type": "code",
   "execution_count": 17,
   "metadata": {},
   "outputs": [],
   "source": [
    "# Save the label encoders to files\n",
    "with open('label_encoder_category.pickle', 'wb') as handle:\n",
    "    pickle.dump(label_encoder_category, handle, protocol=pickle.HIGHEST_PROTOCOL)\n",
    "\n",
    "with open('label_encoder_subcategory.pickle', 'wb') as handle:\n",
    "    pickle.dump(label_encoder_subcategory, handle, protocol=pickle.HIGHEST_PROTOCOL)"
   ]
  },
  {
   "cell_type": "code",
   "execution_count": null,
   "metadata": {},
   "outputs": [],
   "source": [
    "# Function to preprocess and classify new text\n",
    "def classify_text(text):\n",
    "    # Tokenize and pad the input text\n",
    "    text_sequence = tokenizer.texts_to_sequences([text])\n",
    "    text_padded = pad_sequences(text_sequence, maxlen=max_len)\n",
    "\n",
    "    # Make predictions\n",
    "    category_pred, subcategory_pred = model.predict(text_padded)\n",
    "\n",
    "    # Get the class with the highest probability\n",
    "    category_index = category_pred.argmax(axis=-1)[0]\n",
    "    subcategory_index = subcategory_pred.argmax(axis=-1)[0]\n",
    "\n",
    "    # Decode the labels\n",
    "    category_label = label_encoder_category.inverse_transform([category_index])[0]\n",
    "    subcategory_label = label_encoder_subcategory.inverse_transform([subcategory_index])[0]\n",
    "\n",
    "    return category_label, subcategory_label\n",
    "\n",
    "# Example usage\n",
    "new_text = \"Your input text here\"\n",
    "category, subcategory = classify_text(new_text)\n",
    "print(f\"Category: {category}, Subcategory: {subcategory}\")\n"
   ]
  },
  {
   "cell_type": "code",
   "execution_count": 13,
   "metadata": {},
   "outputs": [
    {
     "ename": "AttributeError",
     "evalue": "'builtin_function_or_method' object has no attribute 'lower'",
     "output_type": "error",
     "traceback": [
      "\u001b[0;31m---------------------------------------------------------------------------\u001b[0m",
      "\u001b[0;31mAttributeError\u001b[0m                            Traceback (most recent call last)",
      "Cell \u001b[0;32mIn[13], line 6\u001b[0m\n\u001b[1;32m      4\u001b[0m input_text\u001b[38;5;241m=\u001b[39m[input_text[\u001b[38;5;241m0\u001b[39m]\u001b[38;5;241m.\u001b[39mlower]\n\u001b[1;32m      5\u001b[0m \u001b[38;5;66;03m# Preprocess the input text\u001b[39;00m\n\u001b[0;32m----> 6\u001b[0m input_sequence \u001b[38;5;241m=\u001b[39m \u001b[43mtokenizer\u001b[49m\u001b[38;5;241;43m.\u001b[39;49m\u001b[43mtexts_to_sequences\u001b[49m\u001b[43m(\u001b[49m\u001b[43minput_text\u001b[49m\u001b[43m)\u001b[49m\n\u001b[1;32m      7\u001b[0m input_sequence \u001b[38;5;241m=\u001b[39m pad_sequences(input_sequence, maxlen\u001b[38;5;241m=\u001b[39mmax_len)\n\u001b[1;32m      9\u001b[0m \u001b[38;5;66;03m# Make predictions\u001b[39;00m\n",
      "File \u001b[0;32m~/Desktop/AI_Hackathon/venv/lib/python3.12/site-packages/keras/src/legacy/preprocessing/text.py:177\u001b[0m, in \u001b[0;36mTokenizer.texts_to_sequences\u001b[0;34m(self, texts)\u001b[0m\n\u001b[1;32m    176\u001b[0m \u001b[38;5;28;01mdef\u001b[39;00m \u001b[38;5;21mtexts_to_sequences\u001b[39m(\u001b[38;5;28mself\u001b[39m, texts):\n\u001b[0;32m--> 177\u001b[0m     \u001b[38;5;28;01mreturn\u001b[39;00m \u001b[38;5;28;43mlist\u001b[39;49m\u001b[43m(\u001b[49m\u001b[38;5;28;43mself\u001b[39;49m\u001b[38;5;241;43m.\u001b[39;49m\u001b[43mtexts_to_sequences_generator\u001b[49m\u001b[43m(\u001b[49m\u001b[43mtexts\u001b[49m\u001b[43m)\u001b[49m\u001b[43m)\u001b[49m\n",
      "File \u001b[0;32m~/Desktop/AI_Hackathon/venv/lib/python3.12/site-packages/keras/src/legacy/preprocessing/text.py:192\u001b[0m, in \u001b[0;36mTokenizer.texts_to_sequences_generator\u001b[0;34m(self, texts)\u001b[0m\n\u001b[1;32m    190\u001b[0m \u001b[38;5;28;01melse\u001b[39;00m:\n\u001b[1;32m    191\u001b[0m     \u001b[38;5;28;01mif\u001b[39;00m \u001b[38;5;28mself\u001b[39m\u001b[38;5;241m.\u001b[39manalyzer \u001b[38;5;129;01mis\u001b[39;00m \u001b[38;5;28;01mNone\u001b[39;00m:\n\u001b[0;32m--> 192\u001b[0m         seq \u001b[38;5;241m=\u001b[39m \u001b[43mtext_to_word_sequence\u001b[49m\u001b[43m(\u001b[49m\n\u001b[1;32m    193\u001b[0m \u001b[43m            \u001b[49m\u001b[43mtext\u001b[49m\u001b[43m,\u001b[49m\n\u001b[1;32m    194\u001b[0m \u001b[43m            \u001b[49m\u001b[43mfilters\u001b[49m\u001b[38;5;241;43m=\u001b[39;49m\u001b[38;5;28;43mself\u001b[39;49m\u001b[38;5;241;43m.\u001b[39;49m\u001b[43mfilters\u001b[49m\u001b[43m,\u001b[49m\n\u001b[1;32m    195\u001b[0m \u001b[43m            \u001b[49m\u001b[43mlower\u001b[49m\u001b[38;5;241;43m=\u001b[39;49m\u001b[38;5;28;43mself\u001b[39;49m\u001b[38;5;241;43m.\u001b[39;49m\u001b[43mlower\u001b[49m\u001b[43m,\u001b[49m\n\u001b[1;32m    196\u001b[0m \u001b[43m            \u001b[49m\u001b[43msplit\u001b[49m\u001b[38;5;241;43m=\u001b[39;49m\u001b[38;5;28;43mself\u001b[39;49m\u001b[38;5;241;43m.\u001b[39;49m\u001b[43msplit\u001b[49m\u001b[43m,\u001b[49m\n\u001b[1;32m    197\u001b[0m \u001b[43m        \u001b[49m\u001b[43m)\u001b[49m\n\u001b[1;32m    198\u001b[0m     \u001b[38;5;28;01melse\u001b[39;00m:\n\u001b[1;32m    199\u001b[0m         seq \u001b[38;5;241m=\u001b[39m \u001b[38;5;28mself\u001b[39m\u001b[38;5;241m.\u001b[39manalyzer(text)\n",
      "File \u001b[0;32m~/Desktop/AI_Hackathon/venv/lib/python3.12/site-packages/keras/src/legacy/preprocessing/text.py:22\u001b[0m, in \u001b[0;36mtext_to_word_sequence\u001b[0;34m(input_text, filters, lower, split)\u001b[0m\n\u001b[1;32m     20\u001b[0m \u001b[38;5;250m\u001b[39m\u001b[38;5;124;03m\"\"\"DEPRECATED.\"\"\"\u001b[39;00m\n\u001b[1;32m     21\u001b[0m \u001b[38;5;28;01mif\u001b[39;00m lower:\n\u001b[0;32m---> 22\u001b[0m     input_text \u001b[38;5;241m=\u001b[39m \u001b[43minput_text\u001b[49m\u001b[38;5;241;43m.\u001b[39;49m\u001b[43mlower\u001b[49m()\n\u001b[1;32m     24\u001b[0m translate_dict \u001b[38;5;241m=\u001b[39m {c: split \u001b[38;5;28;01mfor\u001b[39;00m c \u001b[38;5;129;01min\u001b[39;00m filters}\n\u001b[1;32m     25\u001b[0m translate_map \u001b[38;5;241m=\u001b[39m \u001b[38;5;28mstr\u001b[39m\u001b[38;5;241m.\u001b[39mmaketrans(translate_dict)\n",
      "\u001b[0;31mAttributeError\u001b[0m: 'builtin_function_or_method' object has no attribute 'lower'"
     ]
    }
   ],
   "source": [
    "# Example input text data\n",
    "input_text = [\"I am amit kumar from karwi chitrakoot I am totally depressed on fraud calls and msgs who harrashed me on phone plz arrest fraud caller\"]\n",
    "\n",
    "input_text=[input_text[0].lower]\n",
    "# Preprocess the input text\n",
    "input_sequence = tokenizer.texts_to_sequences(input_text)\n",
    "input_sequence = pad_sequences(input_sequence, maxlen=max_len)\n",
    "\n",
    "# Make predictions\n",
    "predictions = model.predict(input_sequence)\n",
    "\n",
    "# Extract predictions for category and subcategory\n",
    "category_prediction = predictions[0]  # Predictions for category output\n",
    "subcategory_prediction = predictions[1]  # Predictions for subcategory output\n",
    "\n",
    "# Get the index of the class with the highest probability\n",
    "predicted_category_index = category_prediction.argmax(axis=-1)[0]\n",
    "predicted_subcategory_index = subcategory_prediction.argmax(axis=-1)[0]\n",
    "\n",
    "# Decode the index back to the original label\n",
    "predicted_category = label_encoder_category.inverse_transform([predicted_category_index])[0]\n",
    "predicted_subcategory = label_encoder_subcategory.inverse_transform([predicted_subcategory_index])[0]\n",
    "\n",
    "# Print the results\n",
    "print(\"Predicted Category:\", predicted_category)\n",
    "print(\"Predicted Subcategory:\", predicted_subcategory)\n"
   ]
  },
  {
   "cell_type": "code",
   "execution_count": null,
   "metadata": {},
   "outputs": [],
   "source": []
  }
 ],
 "metadata": {
  "kernelspec": {
   "display_name": "venv",
   "language": "python",
   "name": "python3"
  },
  "language_info": {
   "codemirror_mode": {
    "name": "ipython",
    "version": 3
   },
   "file_extension": ".py",
   "mimetype": "text/x-python",
   "name": "python",
   "nbconvert_exporter": "python",
   "pygments_lexer": "ipython3",
   "version": "3.12.3"
  }
 },
 "nbformat": 4,
 "nbformat_minor": 2
}
