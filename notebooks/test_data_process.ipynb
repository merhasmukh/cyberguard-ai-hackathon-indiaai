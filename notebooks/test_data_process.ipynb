{
 "cells": [
  {
   "cell_type": "code",
   "execution_count": 1,
   "metadata": {},
   "outputs": [],
   "source": [
    "import pandas as pd"
   ]
  },
  {
   "cell_type": "markdown",
   "metadata": {},
   "source": [
    "# Read CSV files using Pandas"
   ]
  },
  {
   "cell_type": "code",
   "execution_count": 2,
   "metadata": {},
   "outputs": [],
   "source": [
    "df=pd.read_csv(\"../data/test.csv\")\n",
    "\n"
   ]
  },
  {
   "cell_type": "markdown",
   "metadata": {},
   "source": [
    "## Number of rows in the given datastore"
   ]
  },
  {
   "cell_type": "code",
   "execution_count": 3,
   "metadata": {},
   "outputs": [
    {
     "data": {
      "text/plain": [
       "31229"
      ]
     },
     "execution_count": 3,
     "metadata": {},
     "output_type": "execute_result"
    }
   ],
   "source": [
    "len(df)"
   ]
  },
  {
   "cell_type": "markdown",
   "metadata": {},
   "source": [
    "## display first rows"
   ]
  },
  {
   "cell_type": "code",
   "execution_count": 4,
   "metadata": {},
   "outputs": [
    {
     "data": {
      "text/html": [
       "<div>\n",
       "<style scoped>\n",
       "    .dataframe tbody tr th:only-of-type {\n",
       "        vertical-align: middle;\n",
       "    }\n",
       "\n",
       "    .dataframe tbody tr th {\n",
       "        vertical-align: top;\n",
       "    }\n",
       "\n",
       "    .dataframe thead th {\n",
       "        text-align: right;\n",
       "    }\n",
       "</style>\n",
       "<table border=\"1\" class=\"dataframe\">\n",
       "  <thead>\n",
       "    <tr style=\"text-align: right;\">\n",
       "      <th></th>\n",
       "      <th>category</th>\n",
       "      <th>sub_category</th>\n",
       "      <th>crimeaditionalinfo</th>\n",
       "    </tr>\n",
       "  </thead>\n",
       "  <tbody>\n",
       "    <tr>\n",
       "      <th>0</th>\n",
       "      <td>RapeGang Rape RGRSexually Abusive Content</td>\n",
       "      <td>NaN</td>\n",
       "      <td>Sir namaskar  mein Ranjit Kumar PatraPaise neh...</td>\n",
       "    </tr>\n",
       "    <tr>\n",
       "      <th>1</th>\n",
       "      <td>Online Financial Fraud</td>\n",
       "      <td>DebitCredit Card FraudSim Swap Fraud</td>\n",
       "      <td>KOTAK MAHINDRA BANK FRAUD\\r\\nFRAUD AMOUNT</td>\n",
       "    </tr>\n",
       "    <tr>\n",
       "      <th>2</th>\n",
       "      <td>Cyber Attack/ Dependent Crimes</td>\n",
       "      <td>SQL Injection</td>\n",
       "      <td>The issue actually started when I got this ema...</td>\n",
       "    </tr>\n",
       "    <tr>\n",
       "      <th>3</th>\n",
       "      <td>Online Financial Fraud</td>\n",
       "      <td>Fraud CallVishing</td>\n",
       "      <td>I am amit kumar from karwi chitrakoot I am tot...</td>\n",
       "    </tr>\n",
       "    <tr>\n",
       "      <th>4</th>\n",
       "      <td>Any Other Cyber Crime</td>\n",
       "      <td>Other</td>\n",
       "      <td>I have ordered  saree and  blouse from rinki s...</td>\n",
       "    </tr>\n",
       "    <tr>\n",
       "      <th>5</th>\n",
       "      <td>Online Financial Fraud</td>\n",
       "      <td>Internet Banking Related Fraud</td>\n",
       "      <td>My salary of amount  has to be credited to my ...</td>\n",
       "    </tr>\n",
       "    <tr>\n",
       "      <th>6</th>\n",
       "      <td>Hacking  Damage to computercomputer system etc</td>\n",
       "      <td>Unauthorised AccessData Breach</td>\n",
       "      <td>Due to some financial crisis I have applied lo...</td>\n",
       "    </tr>\n",
       "    <tr>\n",
       "      <th>7</th>\n",
       "      <td>Online Financial Fraud</td>\n",
       "      <td>UPI Related Frauds</td>\n",
       "      <td>a person called and told that i won a gift car...</td>\n",
       "    </tr>\n",
       "    <tr>\n",
       "      <th>8</th>\n",
       "      <td>Online Financial Fraud</td>\n",
       "      <td>Internet Banking Related Fraud</td>\n",
       "      <td>NameManik Varban SO Nirmal Varban \\r\\nAddkhara...</td>\n",
       "    </tr>\n",
       "    <tr>\n",
       "      <th>9</th>\n",
       "      <td>Online Financial Fraud</td>\n",
       "      <td>DebitCredit Card FraudSim Swap Fraud</td>\n",
       "      <td>Dear Sir\\r\\n             Please stop the fraud...</td>\n",
       "    </tr>\n",
       "  </tbody>\n",
       "</table>\n",
       "</div>"
      ],
      "text/plain": [
       "                                         category  \\\n",
       "0       RapeGang Rape RGRSexually Abusive Content   \n",
       "1                          Online Financial Fraud   \n",
       "2                  Cyber Attack/ Dependent Crimes   \n",
       "3                          Online Financial Fraud   \n",
       "4                           Any Other Cyber Crime   \n",
       "5                          Online Financial Fraud   \n",
       "6  Hacking  Damage to computercomputer system etc   \n",
       "7                          Online Financial Fraud   \n",
       "8                          Online Financial Fraud   \n",
       "9                          Online Financial Fraud   \n",
       "\n",
       "                           sub_category  \\\n",
       "0                                   NaN   \n",
       "1  DebitCredit Card FraudSim Swap Fraud   \n",
       "2                         SQL Injection   \n",
       "3                     Fraud CallVishing   \n",
       "4                                 Other   \n",
       "5        Internet Banking Related Fraud   \n",
       "6        Unauthorised AccessData Breach   \n",
       "7                    UPI Related Frauds   \n",
       "8        Internet Banking Related Fraud   \n",
       "9  DebitCredit Card FraudSim Swap Fraud   \n",
       "\n",
       "                                  crimeaditionalinfo  \n",
       "0  Sir namaskar  mein Ranjit Kumar PatraPaise neh...  \n",
       "1          KOTAK MAHINDRA BANK FRAUD\\r\\nFRAUD AMOUNT  \n",
       "2  The issue actually started when I got this ema...  \n",
       "3  I am amit kumar from karwi chitrakoot I am tot...  \n",
       "4  I have ordered  saree and  blouse from rinki s...  \n",
       "5  My salary of amount  has to be credited to my ...  \n",
       "6  Due to some financial crisis I have applied lo...  \n",
       "7  a person called and told that i won a gift car...  \n",
       "8  NameManik Varban SO Nirmal Varban \\r\\nAddkhara...  \n",
       "9  Dear Sir\\r\\n             Please stop the fraud...  "
      ]
     },
     "execution_count": 4,
     "metadata": {},
     "output_type": "execute_result"
    }
   ],
   "source": [
    "df.head(10)"
   ]
  },
  {
   "cell_type": "markdown",
   "metadata": {},
   "source": [
    "## display columns names"
   ]
  },
  {
   "cell_type": "code",
   "execution_count": 5,
   "metadata": {},
   "outputs": [
    {
     "data": {
      "text/plain": [
       "Index(['category', 'sub_category', 'crimeaditionalinfo'], dtype='object')"
      ]
     },
     "execution_count": 5,
     "metadata": {},
     "output_type": "execute_result"
    }
   ],
   "source": [
    "df.columns\n"
   ]
  },
  {
   "cell_type": "markdown",
   "metadata": {},
   "source": [
    "## display dataset information"
   ]
  },
  {
   "cell_type": "code",
   "execution_count": 6,
   "metadata": {},
   "outputs": [
    {
     "data": {
      "text/html": [
       "<div>\n",
       "<style scoped>\n",
       "    .dataframe tbody tr th:only-of-type {\n",
       "        vertical-align: middle;\n",
       "    }\n",
       "\n",
       "    .dataframe tbody tr th {\n",
       "        vertical-align: top;\n",
       "    }\n",
       "\n",
       "    .dataframe thead th {\n",
       "        text-align: right;\n",
       "    }\n",
       "</style>\n",
       "<table border=\"1\" class=\"dataframe\">\n",
       "  <thead>\n",
       "    <tr style=\"text-align: right;\">\n",
       "      <th></th>\n",
       "      <th>category</th>\n",
       "      <th>sub_category</th>\n",
       "      <th>crimeaditionalinfo</th>\n",
       "    </tr>\n",
       "  </thead>\n",
       "  <tbody>\n",
       "    <tr>\n",
       "      <th>count</th>\n",
       "      <td>31229</td>\n",
       "      <td>28993</td>\n",
       "      <td>31222</td>\n",
       "    </tr>\n",
       "    <tr>\n",
       "      <th>unique</th>\n",
       "      <td>15</td>\n",
       "      <td>37</td>\n",
       "      <td>28785</td>\n",
       "    </tr>\n",
       "    <tr>\n",
       "      <th>top</th>\n",
       "      <td>Online Financial Fraud</td>\n",
       "      <td>UPI Related Frauds</td>\n",
       "      <td>Respected Sir\\r\\n\\r\\nA very serious matter I w...</td>\n",
       "    </tr>\n",
       "    <tr>\n",
       "      <th>freq</th>\n",
       "      <td>18896</td>\n",
       "      <td>8890</td>\n",
       "      <td>753</td>\n",
       "    </tr>\n",
       "  </tbody>\n",
       "</table>\n",
       "</div>"
      ],
      "text/plain": [
       "                      category        sub_category  \\\n",
       "count                    31229               28993   \n",
       "unique                      15                  37   \n",
       "top     Online Financial Fraud  UPI Related Frauds   \n",
       "freq                     18896                8890   \n",
       "\n",
       "                                       crimeaditionalinfo  \n",
       "count                                               31222  \n",
       "unique                                              28785  \n",
       "top     Respected Sir\\r\\n\\r\\nA very serious matter I w...  \n",
       "freq                                                  753  "
      ]
     },
     "execution_count": 6,
     "metadata": {},
     "output_type": "execute_result"
    }
   ],
   "source": [
    "df.describe()\n"
   ]
  },
  {
   "cell_type": "markdown",
   "metadata": {},
   "source": [
    "## Number of NaN values for particular columns"
   ]
  },
  {
   "cell_type": "code",
   "execution_count": 7,
   "metadata": {},
   "outputs": [
    {
     "data": {
      "text/plain": [
       "category                 0\n",
       "sub_category          2236\n",
       "crimeaditionalinfo       7\n",
       "dtype: int64"
      ]
     },
     "execution_count": 7,
     "metadata": {},
     "output_type": "execute_result"
    }
   ],
   "source": [
    "df.isnull().sum()"
   ]
  },
  {
   "cell_type": "markdown",
   "metadata": {},
   "source": [
    "## We have to handle NaN values in the given dataset\n",
    "- here we can see that there are 21 records that have no crimeaditionalinfo so we can drop that rows"
   ]
  },
  {
   "cell_type": "code",
   "execution_count": 8,
   "metadata": {},
   "outputs": [],
   "source": [
    "df_cleaned = df.dropna(subset=['crimeaditionalinfo'])\n"
   ]
  },
  {
   "cell_type": "code",
   "execution_count": 9,
   "metadata": {},
   "outputs": [
    {
     "data": {
      "text/plain": [
       "category                 0\n",
       "sub_category          2235\n",
       "crimeaditionalinfo       0\n",
       "dtype: int64"
      ]
     },
     "execution_count": 9,
     "metadata": {},
     "output_type": "execute_result"
    }
   ],
   "source": [
    "df_cleaned.isnull().sum()"
   ]
  },
  {
   "cell_type": "markdown",
   "metadata": {},
   "source": [
    "### Process Sub Category\n",
    "- Here we can see that there are 6591 NaN values in the sub category so we can drop that also or we have to fill that by replacing some values."
   ]
  },
  {
   "cell_type": "code",
   "execution_count": 10,
   "metadata": {},
   "outputs": [
    {
     "data": {
      "text/plain": [
       "(31222, 3)"
      ]
     },
     "execution_count": 10,
     "metadata": {},
     "output_type": "execute_result"
    }
   ],
   "source": [
    "df_cleaned.shape"
   ]
  },
  {
   "cell_type": "code",
   "execution_count": 11,
   "metadata": {},
   "outputs": [],
   "source": [
    "## New Df\n",
    "df=df_cleaned"
   ]
  },
  {
   "cell_type": "code",
   "execution_count": 12,
   "metadata": {},
   "outputs": [
    {
     "data": {
      "text/html": [
       "<div>\n",
       "<style scoped>\n",
       "    .dataframe tbody tr th:only-of-type {\n",
       "        vertical-align: middle;\n",
       "    }\n",
       "\n",
       "    .dataframe tbody tr th {\n",
       "        vertical-align: top;\n",
       "    }\n",
       "\n",
       "    .dataframe thead th {\n",
       "        text-align: right;\n",
       "    }\n",
       "</style>\n",
       "<table border=\"1\" class=\"dataframe\">\n",
       "  <thead>\n",
       "    <tr style=\"text-align: right;\">\n",
       "      <th></th>\n",
       "      <th>category</th>\n",
       "      <th>sub_category</th>\n",
       "      <th>crimeaditionalinfo</th>\n",
       "    </tr>\n",
       "  </thead>\n",
       "  <tbody>\n",
       "    <tr>\n",
       "      <th>0</th>\n",
       "      <td>RapeGang Rape RGRSexually Abusive Content</td>\n",
       "      <td>NaN</td>\n",
       "      <td>Sir namaskar  mein Ranjit Kumar PatraPaise neh...</td>\n",
       "    </tr>\n",
       "    <tr>\n",
       "      <th>10</th>\n",
       "      <td>Sexually Explicit Act</td>\n",
       "      <td>NaN</td>\n",
       "      <td>Hello sir they are sending friend request and ...</td>\n",
       "    </tr>\n",
       "    <tr>\n",
       "      <th>12</th>\n",
       "      <td>Sexually Obscene material</td>\n",
       "      <td>NaN</td>\n",
       "      <td>He was called from Maharashtra and created fak...</td>\n",
       "    </tr>\n",
       "    <tr>\n",
       "      <th>25</th>\n",
       "      <td>Child Pornography CPChild Sexual Abuse Materia...</td>\n",
       "      <td>NaN</td>\n",
       "      <td>The above mentioned porn site contains some vi...</td>\n",
       "    </tr>\n",
       "    <tr>\n",
       "      <th>61</th>\n",
       "      <td>RapeGang Rape RGRSexually Abusive Content</td>\n",
       "      <td>NaN</td>\n",
       "      <td>Respected Sir\\r\\n\\r\\nA very serious matter I w...</td>\n",
       "    </tr>\n",
       "    <tr>\n",
       "      <th>63</th>\n",
       "      <td>Sexually Explicit Act</td>\n",
       "      <td>NaN</td>\n",
       "      <td>httpswwwfacebookcomprofilephpid ye Facebook ph...</td>\n",
       "    </tr>\n",
       "    <tr>\n",
       "      <th>86</th>\n",
       "      <td>Sexually Obscene material</td>\n",
       "      <td>NaN</td>\n",
       "      <td>Sir someone has been deliberately from the pas...</td>\n",
       "    </tr>\n",
       "    <tr>\n",
       "      <th>92</th>\n",
       "      <td>Sexually Obscene material</td>\n",
       "      <td>NaN</td>\n",
       "      <td>Someone hake my instagram id and Facebook id a...</td>\n",
       "    </tr>\n",
       "    <tr>\n",
       "      <th>96</th>\n",
       "      <td>RapeGang Rape RGRSexually Abusive Content</td>\n",
       "      <td>NaN</td>\n",
       "      <td>Respected Sir\\r\\n\\r\\nA very serious matter I w...</td>\n",
       "    </tr>\n",
       "    <tr>\n",
       "      <th>98</th>\n",
       "      <td>Sexually Obscene material</td>\n",
       "      <td>NaN</td>\n",
       "      <td>Few days back sms for offer with link came on ...</td>\n",
       "    </tr>\n",
       "    <tr>\n",
       "      <th>108</th>\n",
       "      <td>RapeGang Rape RGRSexually Abusive Content</td>\n",
       "      <td>NaN</td>\n",
       "      <td>Respected Sir\\r\\n\\r\\nA very serious matter I w...</td>\n",
       "    </tr>\n",
       "    <tr>\n",
       "      <th>110</th>\n",
       "      <td>RapeGang Rape RGRSexually Abusive Content</td>\n",
       "      <td>NaN</td>\n",
       "      <td>Respected Sir\\r\\n\\r\\nA very serious matter I w...</td>\n",
       "    </tr>\n",
       "    <tr>\n",
       "      <th>118</th>\n",
       "      <td>Sexually Obscene material</td>\n",
       "      <td>NaN</td>\n",
       "      <td>I was given a Google meet video link ob hangou...</td>\n",
       "    </tr>\n",
       "    <tr>\n",
       "      <th>160</th>\n",
       "      <td>RapeGang Rape RGRSexually Abusive Content</td>\n",
       "      <td>NaN</td>\n",
       "      <td>Respected Sir\\r\\n\\r\\nA very serious matter I w...</td>\n",
       "    </tr>\n",
       "    <tr>\n",
       "      <th>176</th>\n",
       "      <td>RapeGang Rape RGRSexually Abusive Content</td>\n",
       "      <td>NaN</td>\n",
       "      <td>Respected Sir\\r\\n\\r\\nA very serious matter I w...</td>\n",
       "    </tr>\n",
       "  </tbody>\n",
       "</table>\n",
       "</div>"
      ],
      "text/plain": [
       "                                              category sub_category  \\\n",
       "0            RapeGang Rape RGRSexually Abusive Content          NaN   \n",
       "10                               Sexually Explicit Act          NaN   \n",
       "12                           Sexually Obscene material          NaN   \n",
       "25   Child Pornography CPChild Sexual Abuse Materia...          NaN   \n",
       "61           RapeGang Rape RGRSexually Abusive Content          NaN   \n",
       "63                               Sexually Explicit Act          NaN   \n",
       "86                           Sexually Obscene material          NaN   \n",
       "92                           Sexually Obscene material          NaN   \n",
       "96           RapeGang Rape RGRSexually Abusive Content          NaN   \n",
       "98                           Sexually Obscene material          NaN   \n",
       "108          RapeGang Rape RGRSexually Abusive Content          NaN   \n",
       "110          RapeGang Rape RGRSexually Abusive Content          NaN   \n",
       "118                          Sexually Obscene material          NaN   \n",
       "160          RapeGang Rape RGRSexually Abusive Content          NaN   \n",
       "176          RapeGang Rape RGRSexually Abusive Content          NaN   \n",
       "\n",
       "                                    crimeaditionalinfo  \n",
       "0    Sir namaskar  mein Ranjit Kumar PatraPaise neh...  \n",
       "10   Hello sir they are sending friend request and ...  \n",
       "12   He was called from Maharashtra and created fak...  \n",
       "25   The above mentioned porn site contains some vi...  \n",
       "61   Respected Sir\\r\\n\\r\\nA very serious matter I w...  \n",
       "63   httpswwwfacebookcomprofilephpid ye Facebook ph...  \n",
       "86   Sir someone has been deliberately from the pas...  \n",
       "92   Someone hake my instagram id and Facebook id a...  \n",
       "96   Respected Sir\\r\\n\\r\\nA very serious matter I w...  \n",
       "98   Few days back sms for offer with link came on ...  \n",
       "108  Respected Sir\\r\\n\\r\\nA very serious matter I w...  \n",
       "110  Respected Sir\\r\\n\\r\\nA very serious matter I w...  \n",
       "118  I was given a Google meet video link ob hangou...  \n",
       "160  Respected Sir\\r\\n\\r\\nA very serious matter I w...  \n",
       "176  Respected Sir\\r\\n\\r\\nA very serious matter I w...  "
      ]
     },
     "execution_count": 12,
     "metadata": {},
     "output_type": "execute_result"
    }
   ],
   "source": [
    "nan_sub_category = df[df['sub_category'].isna()]\n",
    "nan_sub_category.head(15)"
   ]
  },
  {
   "cell_type": "code",
   "execution_count": 13,
   "metadata": {},
   "outputs": [
    {
     "data": {
      "text/html": [
       "<div>\n",
       "<style scoped>\n",
       "    .dataframe tbody tr th:only-of-type {\n",
       "        vertical-align: middle;\n",
       "    }\n",
       "\n",
       "    .dataframe tbody tr th {\n",
       "        vertical-align: top;\n",
       "    }\n",
       "\n",
       "    .dataframe thead th {\n",
       "        text-align: right;\n",
       "    }\n",
       "</style>\n",
       "<table border=\"1\" class=\"dataframe\">\n",
       "  <thead>\n",
       "    <tr style=\"text-align: right;\">\n",
       "      <th></th>\n",
       "      <th>category</th>\n",
       "      <th>sub_category</th>\n",
       "      <th>crimeaditionalinfo</th>\n",
       "    </tr>\n",
       "  </thead>\n",
       "  <tbody>\n",
       "    <tr>\n",
       "      <th>0</th>\n",
       "      <td>RapeGang Rape RGRSexually Abusive Content</td>\n",
       "      <td>NaN</td>\n",
       "      <td>Sir namaskar  mein Ranjit Kumar PatraPaise neh...</td>\n",
       "    </tr>\n",
       "    <tr>\n",
       "      <th>1</th>\n",
       "      <td>Online Financial Fraud</td>\n",
       "      <td>DebitCredit Card FraudSim Swap Fraud</td>\n",
       "      <td>KOTAK MAHINDRA BANK FRAUD\\r\\nFRAUD AMOUNT</td>\n",
       "    </tr>\n",
       "    <tr>\n",
       "      <th>2</th>\n",
       "      <td>Cyber Attack/ Dependent Crimes</td>\n",
       "      <td>SQL Injection</td>\n",
       "      <td>The issue actually started when I got this ema...</td>\n",
       "    </tr>\n",
       "    <tr>\n",
       "      <th>3</th>\n",
       "      <td>Online Financial Fraud</td>\n",
       "      <td>Fraud CallVishing</td>\n",
       "      <td>I am amit kumar from karwi chitrakoot I am tot...</td>\n",
       "    </tr>\n",
       "    <tr>\n",
       "      <th>4</th>\n",
       "      <td>Any Other Cyber Crime</td>\n",
       "      <td>Other</td>\n",
       "      <td>I have ordered  saree and  blouse from rinki s...</td>\n",
       "    </tr>\n",
       "    <tr>\n",
       "      <th>...</th>\n",
       "      <td>...</td>\n",
       "      <td>...</td>\n",
       "      <td>...</td>\n",
       "    </tr>\n",
       "    <tr>\n",
       "      <th>31224</th>\n",
       "      <td>Online and Social Media Related Crime</td>\n",
       "      <td>Online Matrimonial Fraud</td>\n",
       "      <td>A lady named Rashmi probably a fake name had c...</td>\n",
       "    </tr>\n",
       "    <tr>\n",
       "      <th>31225</th>\n",
       "      <td>Online Financial Fraud</td>\n",
       "      <td>Internet Banking Related Fraud</td>\n",
       "      <td>I am Mr Chokhe Ram  Two pers mobile number wer...</td>\n",
       "    </tr>\n",
       "    <tr>\n",
       "      <th>31226</th>\n",
       "      <td>Any Other Cyber Crime</td>\n",
       "      <td>Other</td>\n",
       "      <td>Mai Bibekbraj maine pahle ki complain kar chuk...</td>\n",
       "    </tr>\n",
       "    <tr>\n",
       "      <th>31227</th>\n",
       "      <td>Online Financial Fraud</td>\n",
       "      <td>Internet Banking Related Fraud</td>\n",
       "      <td>received URL link for updating KYC from mobile...</td>\n",
       "    </tr>\n",
       "    <tr>\n",
       "      <th>31228</th>\n",
       "      <td>Any Other Cyber Crime</td>\n",
       "      <td>Other</td>\n",
       "      <td>I saw add on facebook for job placement and I ...</td>\n",
       "    </tr>\n",
       "  </tbody>\n",
       "</table>\n",
       "<p>31222 rows × 3 columns</p>\n",
       "</div>"
      ],
      "text/plain": [
       "                                        category  \\\n",
       "0      RapeGang Rape RGRSexually Abusive Content   \n",
       "1                         Online Financial Fraud   \n",
       "2                 Cyber Attack/ Dependent Crimes   \n",
       "3                         Online Financial Fraud   \n",
       "4                          Any Other Cyber Crime   \n",
       "...                                          ...   \n",
       "31224      Online and Social Media Related Crime   \n",
       "31225                     Online Financial Fraud   \n",
       "31226                      Any Other Cyber Crime   \n",
       "31227                     Online Financial Fraud   \n",
       "31228                      Any Other Cyber Crime   \n",
       "\n",
       "                               sub_category  \\\n",
       "0                                       NaN   \n",
       "1      DebitCredit Card FraudSim Swap Fraud   \n",
       "2                             SQL Injection   \n",
       "3                         Fraud CallVishing   \n",
       "4                                     Other   \n",
       "...                                     ...   \n",
       "31224              Online Matrimonial Fraud   \n",
       "31225        Internet Banking Related Fraud   \n",
       "31226                                 Other   \n",
       "31227        Internet Banking Related Fraud   \n",
       "31228                                 Other   \n",
       "\n",
       "                                      crimeaditionalinfo  \n",
       "0      Sir namaskar  mein Ranjit Kumar PatraPaise neh...  \n",
       "1              KOTAK MAHINDRA BANK FRAUD\\r\\nFRAUD AMOUNT  \n",
       "2      The issue actually started when I got this ema...  \n",
       "3      I am amit kumar from karwi chitrakoot I am tot...  \n",
       "4      I have ordered  saree and  blouse from rinki s...  \n",
       "...                                                  ...  \n",
       "31224  A lady named Rashmi probably a fake name had c...  \n",
       "31225  I am Mr Chokhe Ram  Two pers mobile number wer...  \n",
       "31226  Mai Bibekbraj maine pahle ki complain kar chuk...  \n",
       "31227  received URL link for updating KYC from mobile...  \n",
       "31228  I saw add on facebook for job placement and I ...  \n",
       "\n",
       "[31222 rows x 3 columns]"
      ]
     },
     "execution_count": 13,
     "metadata": {},
     "output_type": "execute_result"
    }
   ],
   "source": [
    "df"
   ]
  },
  {
   "cell_type": "code",
   "execution_count": 14,
   "metadata": {},
   "outputs": [
    {
     "data": {
      "text/html": [
       "<div>\n",
       "<style scoped>\n",
       "    .dataframe tbody tr th:only-of-type {\n",
       "        vertical-align: middle;\n",
       "    }\n",
       "\n",
       "    .dataframe tbody tr th {\n",
       "        vertical-align: top;\n",
       "    }\n",
       "\n",
       "    .dataframe thead th {\n",
       "        text-align: right;\n",
       "    }\n",
       "</style>\n",
       "<table border=\"1\" class=\"dataframe\">\n",
       "  <thead>\n",
       "    <tr style=\"text-align: right;\">\n",
       "      <th></th>\n",
       "      <th>category</th>\n",
       "      <th>sub_category</th>\n",
       "      <th>crimeaditionalinfo</th>\n",
       "    </tr>\n",
       "  </thead>\n",
       "  <tbody>\n",
       "    <tr>\n",
       "      <th>0</th>\n",
       "      <td>RapeGang Rape RGRSexually Abusive Content</td>\n",
       "      <td>NaN</td>\n",
       "      <td>Sir namaskar  mein Ranjit Kumar PatraPaise neh...</td>\n",
       "    </tr>\n",
       "    <tr>\n",
       "      <th>10</th>\n",
       "      <td>Sexually Explicit Act</td>\n",
       "      <td>NaN</td>\n",
       "      <td>Hello sir they are sending friend request and ...</td>\n",
       "    </tr>\n",
       "    <tr>\n",
       "      <th>12</th>\n",
       "      <td>Sexually Obscene material</td>\n",
       "      <td>NaN</td>\n",
       "      <td>He was called from Maharashtra and created fak...</td>\n",
       "    </tr>\n",
       "    <tr>\n",
       "      <th>25</th>\n",
       "      <td>Child Pornography CPChild Sexual Abuse Materia...</td>\n",
       "      <td>NaN</td>\n",
       "      <td>The above mentioned porn site contains some vi...</td>\n",
       "    </tr>\n",
       "    <tr>\n",
       "      <th>61</th>\n",
       "      <td>RapeGang Rape RGRSexually Abusive Content</td>\n",
       "      <td>NaN</td>\n",
       "      <td>Respected Sir\\r\\n\\r\\nA very serious matter I w...</td>\n",
       "    </tr>\n",
       "    <tr>\n",
       "      <th>...</th>\n",
       "      <td>...</td>\n",
       "      <td>...</td>\n",
       "      <td>...</td>\n",
       "    </tr>\n",
       "    <tr>\n",
       "      <th>31156</th>\n",
       "      <td>RapeGang Rape RGRSexually Abusive Content</td>\n",
       "      <td>NaN</td>\n",
       "      <td>Respected Sir\\r\\n\\r\\nA very serious matter I w...</td>\n",
       "    </tr>\n",
       "    <tr>\n",
       "      <th>31182</th>\n",
       "      <td>RapeGang Rape RGRSexually Abusive Content</td>\n",
       "      <td>NaN</td>\n",
       "      <td>Respected Sir\\r\\n\\r\\nA very serious matter I w...</td>\n",
       "    </tr>\n",
       "    <tr>\n",
       "      <th>31183</th>\n",
       "      <td>Sexually Explicit Act</td>\n",
       "      <td>NaN</td>\n",
       "      <td>Sir I have lost nearly  for a mistake I have m...</td>\n",
       "    </tr>\n",
       "    <tr>\n",
       "      <th>31191</th>\n",
       "      <td>Sexually Explicit Act</td>\n",
       "      <td>NaN</td>\n",
       "      <td>Im from chalakudy  this is a complaint about m...</td>\n",
       "    </tr>\n",
       "    <tr>\n",
       "      <th>31209</th>\n",
       "      <td>RapeGang Rape RGRSexually Abusive Content</td>\n",
       "      <td>NaN</td>\n",
       "      <td>Respected Sir\\r\\n\\r\\nA very serious matter I w...</td>\n",
       "    </tr>\n",
       "  </tbody>\n",
       "</table>\n",
       "<p>2235 rows × 3 columns</p>\n",
       "</div>"
      ],
      "text/plain": [
       "                                                category sub_category  \\\n",
       "0              RapeGang Rape RGRSexually Abusive Content          NaN   \n",
       "10                                 Sexually Explicit Act          NaN   \n",
       "12                             Sexually Obscene material          NaN   \n",
       "25     Child Pornography CPChild Sexual Abuse Materia...          NaN   \n",
       "61             RapeGang Rape RGRSexually Abusive Content          NaN   \n",
       "...                                                  ...          ...   \n",
       "31156          RapeGang Rape RGRSexually Abusive Content          NaN   \n",
       "31182          RapeGang Rape RGRSexually Abusive Content          NaN   \n",
       "31183                              Sexually Explicit Act          NaN   \n",
       "31191                              Sexually Explicit Act          NaN   \n",
       "31209          RapeGang Rape RGRSexually Abusive Content          NaN   \n",
       "\n",
       "                                      crimeaditionalinfo  \n",
       "0      Sir namaskar  mein Ranjit Kumar PatraPaise neh...  \n",
       "10     Hello sir they are sending friend request and ...  \n",
       "12     He was called from Maharashtra and created fak...  \n",
       "25     The above mentioned porn site contains some vi...  \n",
       "61     Respected Sir\\r\\n\\r\\nA very serious matter I w...  \n",
       "...                                                  ...  \n",
       "31156  Respected Sir\\r\\n\\r\\nA very serious matter I w...  \n",
       "31182  Respected Sir\\r\\n\\r\\nA very serious matter I w...  \n",
       "31183  Sir I have lost nearly  for a mistake I have m...  \n",
       "31191  Im from chalakudy  this is a complaint about m...  \n",
       "31209  Respected Sir\\r\\n\\r\\nA very serious matter I w...  \n",
       "\n",
       "[2235 rows x 3 columns]"
      ]
     },
     "execution_count": 14,
     "metadata": {},
     "output_type": "execute_result"
    }
   ],
   "source": [
    "nan_sub_category = df[df['sub_category'].isna()]\n",
    "nan_sub_category"
   ]
  },
  {
   "cell_type": "code",
   "execution_count": 15,
   "metadata": {},
   "outputs": [
    {
     "data": {
      "text/plain": [
       "category                 0\n",
       "sub_category          2235\n",
       "crimeaditionalinfo       0\n",
       "dtype: int64"
      ]
     },
     "execution_count": 15,
     "metadata": {},
     "output_type": "execute_result"
    }
   ],
   "source": [
    "nan_sub_category.isnull().sum()"
   ]
  },
  {
   "cell_type": "markdown",
   "metadata": {},
   "source": [
    "## Replace NaN Sub Category with Appropriate value\n"
   ]
  },
  {
   "cell_type": "code",
   "execution_count": 16,
   "metadata": {},
   "outputs": [],
   "source": [
    "unique_categories = df[df['sub_category'].isna()]['category'].unique()\n",
    "unique_categories=unique_categories.tolist()"
   ]
  },
  {
   "cell_type": "code",
   "execution_count": 17,
   "metadata": {},
   "outputs": [
    {
     "data": {
      "text/plain": [
       "['RapeGang Rape RGRSexually Abusive Content',\n",
       " 'Sexually Explicit Act',\n",
       " 'Sexually Obscene material',\n",
       " 'Child Pornography CPChild Sexual Abuse Material CSAM']"
      ]
     },
     "execution_count": 17,
     "metadata": {},
     "output_type": "execute_result"
    }
   ],
   "source": [
    "unique_categories"
   ]
  },
  {
   "cell_type": "code",
   "execution_count": 18,
   "metadata": {},
   "outputs": [],
   "source": [
    "# Iterate through each unique category\n",
    "for category in unique_categories:\n",
    "    # Replace NaN in sub_category with the category name\n",
    "    df.loc[(df['sub_category'].isna()) & (df['category'] == category), 'sub_category'] = category\n",
    "    \n",
    "    # Add a new category label for Women/Child Related Crime\n",
    "    df.loc[(df['sub_category'] == category), 'category'] = 'Women/Child Related Crime'\n"
   ]
  },
  {
   "cell_type": "code",
   "execution_count": 19,
   "metadata": {},
   "outputs": [
    {
     "data": {
      "text/plain": [
       "category              0\n",
       "sub_category          0\n",
       "crimeaditionalinfo    0\n",
       "dtype: int64"
      ]
     },
     "execution_count": 19,
     "metadata": {},
     "output_type": "execute_result"
    }
   ],
   "source": [
    "df.isnull().sum()"
   ]
  },
  {
   "cell_type": "markdown",
   "metadata": {},
   "source": [
    "### So now there is not any NaN values in our dataset"
   ]
  },
  {
   "cell_type": "code",
   "execution_count": 20,
   "metadata": {},
   "outputs": [
    {
     "data": {
      "text/plain": [
       "array(['Women/Child Related Crime', 'Online Financial Fraud',\n",
       "       'Cyber Attack/ Dependent Crimes', 'Any Other Cyber Crime',\n",
       "       'Hacking  Damage to computercomputer system etc',\n",
       "       'Online and Social Media Related Crime', 'Cryptocurrency Crime',\n",
       "       'Online Gambling  Betting', 'Online Cyber Trafficking',\n",
       "       'Cyber Terrorism', 'Ransomware', 'Crime Against Women & Children'],\n",
       "      dtype=object)"
      ]
     },
     "execution_count": 20,
     "metadata": {},
     "output_type": "execute_result"
    }
   ],
   "source": [
    "df['category'].unique()"
   ]
  },
  {
   "cell_type": "markdown",
   "metadata": {},
   "source": [
    "#### As of now we can keep these all categories and no need to process this"
   ]
  },
  {
   "cell_type": "code",
   "execution_count": 21,
   "metadata": {},
   "outputs": [
    {
     "data": {
      "text/plain": [
       "array(['RapeGang Rape RGRSexually Abusive Content',\n",
       "       'DebitCredit Card FraudSim Swap Fraud', 'SQL Injection',\n",
       "       'Fraud CallVishing', 'Other', 'Internet Banking Related Fraud',\n",
       "       'Unauthorised AccessData Breach', 'UPI Related Frauds',\n",
       "       'Sexually Explicit Act', 'Damage to computer computer systems etc',\n",
       "       'Sexually Obscene material', 'Cheating by Impersonation',\n",
       "       'Child Pornography CPChild Sexual Abuse Material CSAM',\n",
       "       'Malware Attack', 'EWallet Related Fraud', 'EMail Phishing',\n",
       "       'Profile Hacking Identity Theft', 'Data Breach/Theft',\n",
       "       'FakeImpersonating Profile', 'Email Hacking', 'Online Job Fraud',\n",
       "       'Cyber Bullying  Stalking  Sexting', 'Hacking/Defacement',\n",
       "       'Cryptocurrency Fraud', 'Online Matrimonial Fraud',\n",
       "       'Tampering with computer source documents',\n",
       "       'Denial of Service (DoS)/Distributed Denial of Service (DDOS) attacks',\n",
       "       'DematDepository Fraud', 'Provocative Speech for unlawful acts',\n",
       "       'Online Gambling  Betting', 'Ransomware Attack',\n",
       "       'Business Email CompromiseEmail Takeover', 'Online Trafficking',\n",
       "       'Cyber Terrorism', 'Impersonating Email',\n",
       "       'Website DefacementHacking', 'Ransomware',\n",
       "       'Computer Generated CSAM/CSEM', 'Intimidating Email',\n",
       "       'Cyber Blackmailing & Threatening', 'Sexual Harassment'],\n",
       "      dtype=object)"
      ]
     },
     "execution_count": 21,
     "metadata": {},
     "output_type": "execute_result"
    }
   ],
   "source": [
    "df['sub_category'].unique()"
   ]
  },
  {
   "cell_type": "code",
   "execution_count": 22,
   "metadata": {},
   "outputs": [
    {
     "data": {
      "text/plain": [
       "pandas.core.frame.DataFrame"
      ]
     },
     "execution_count": 22,
     "metadata": {},
     "output_type": "execute_result"
    }
   ],
   "source": [
    "type(df)"
   ]
  },
  {
   "cell_type": "code",
   "execution_count": 23,
   "metadata": {},
   "outputs": [
    {
     "data": {
      "text/plain": [
       "array(['RapeGang Rape RGRSexually Abusive Content',\n",
       "       'DebitCredit Card FraudSim Swap Fraud', 'SQL Injection',\n",
       "       'Fraud CallVishing', 'Other', 'Internet Banking Related Fraud',\n",
       "       'Unauthorised AccessData Breach', 'UPI Related Frauds',\n",
       "       'Sexually Explicit Act', 'Damage to computer computer systems etc',\n",
       "       'Sexually Obscene material', 'Cheating by Impersonation',\n",
       "       'Child Pornography CPChild Sexual Abuse Material CSAM',\n",
       "       'Malware Attack', 'EWallet Related Fraud', 'EMail Phishing',\n",
       "       'Profile Hacking Identity Theft', 'Data Breach/Theft',\n",
       "       'FakeImpersonating Profile', 'Email Hacking', 'Online Job Fraud',\n",
       "       'Cyber Bullying/Stalking/Sexting', 'Hacking/Defacement',\n",
       "       'Cryptocurrency Fraud', 'Online Matrimonial Fraud',\n",
       "       'Tampering with computer source documents',\n",
       "       'Denial of Service (DoS)/Distributed Denial of Service (DDOS) attacks',\n",
       "       'DematDepository Fraud', 'Provocative Speech for unlawful acts',\n",
       "       'Online Gambling  Betting', 'Ransomware Attack',\n",
       "       'Business Email CompromiseEmail Takeover', 'Online Trafficking',\n",
       "       'Cyber Terrorism', 'Impersonating Email',\n",
       "       'Website DefacementHacking', 'Ransomware',\n",
       "       'Computer Generated CSAM/CSEM', 'Intimidating Email',\n",
       "       'Cyber Blackmailing & Threatening', 'Sexual Harassment'],\n",
       "      dtype=object)"
      ]
     },
     "execution_count": 23,
     "metadata": {},
     "output_type": "execute_result"
    }
   ],
   "source": [
    "df['sub_category']=df['sub_category'].replace('Cyber Bullying  Stalking  Sexting','Cyber Bullying/Stalking/Sexting')\n",
    "df['sub_category']=df['sub_category'].str.strip()\n",
    "df['sub_category'].unique()"
   ]
  },
  {
   "cell_type": "code",
   "execution_count": 24,
   "metadata": {},
   "outputs": [
    {
     "data": {
      "text/plain": [
       "array(['RapeGang Rape RGRSexually Abusive Content',\n",
       "       'DebitCredit Card FraudSim Swap Fraud', 'SQL Injection',\n",
       "       'Fraud Call/Vishing', 'Other', 'Internet Banking Related Fraud',\n",
       "       'Unauthorised AccessData Breach', 'UPI Related Frauds',\n",
       "       'Sexually Explicit Act', 'Damage to computer computer systems etc',\n",
       "       'Sexually Obscene material', 'Cheating by Impersonation',\n",
       "       'Child Pornography CPChild Sexual Abuse Material CSAM',\n",
       "       'Malware Attack', 'EWallet Related Fraud', 'EMail Phishing',\n",
       "       'Profile Hacking Identity Theft', 'Data Breach/Theft',\n",
       "       'FakeImpersonating Profile', 'Email Hacking', 'Online Job Fraud',\n",
       "       'Cyber Bullying/Stalking/Sexting', 'Hacking/Defacement',\n",
       "       'Cryptocurrency Fraud', 'Online Matrimonial Fraud',\n",
       "       'Tampering with computer source documents',\n",
       "       'Denial of Service (DoS)/Distributed Denial of Service (DDOS) attacks',\n",
       "       'DematDepository Fraud', 'Provocative Speech for unlawful acts',\n",
       "       'Online Gambling  Betting', 'Ransomware Attack',\n",
       "       'Business Email CompromiseEmail Takeover', 'Online Trafficking',\n",
       "       'Cyber Terrorism', 'Impersonating Email',\n",
       "       'Website DefacementHacking', 'Ransomware',\n",
       "       'Computer Generated CSAM/CSEM', 'Intimidating Email',\n",
       "       'Cyber Blackmailing & Threatening', 'Sexual Harassment'],\n",
       "      dtype=object)"
      ]
     },
     "execution_count": 24,
     "metadata": {},
     "output_type": "execute_result"
    }
   ],
   "source": [
    "df['sub_category']=df['sub_category'].replace('Fraud CallVishing','Fraud Call/Vishing')\n",
    "df['sub_category']=df['sub_category'].str.strip()\n",
    "df['sub_category'].unique()"
   ]
  },
  {
   "cell_type": "code",
   "execution_count": 25,
   "metadata": {},
   "outputs": [
    {
     "data": {
      "text/plain": [
       "array(['Rape/Gang Rape-Sexually Abusive Content',\n",
       "       'DebitCredit Card FraudSim Swap Fraud', 'SQL Injection',\n",
       "       'Fraud Call/Vishing', 'Other', 'Internet Banking Related Fraud',\n",
       "       'Unauthorised AccessData Breach', 'UPI Related Frauds',\n",
       "       'Sexually Explicit Act', 'Damage to computer computer systems etc',\n",
       "       'Sexually Obscene material', 'Cheating by Impersonation',\n",
       "       'Child Pornography CPChild Sexual Abuse Material CSAM',\n",
       "       'Malware Attack', 'EWallet Related Fraud', 'EMail Phishing',\n",
       "       'Profile Hacking Identity Theft', 'Data Breach/Theft',\n",
       "       'FakeImpersonating Profile', 'Email Hacking', 'Online Job Fraud',\n",
       "       'Cyber Bullying/Stalking/Sexting', 'Hacking/Defacement',\n",
       "       'Cryptocurrency Fraud', 'Online Matrimonial Fraud',\n",
       "       'Tampering with computer source documents',\n",
       "       'Denial of Service (DoS)/Distributed Denial of Service (DDOS) attacks',\n",
       "       'DematDepository Fraud', 'Provocative Speech for unlawful acts',\n",
       "       'Online Gambling  Betting', 'Ransomware Attack',\n",
       "       'Business Email CompromiseEmail Takeover', 'Online Trafficking',\n",
       "       'Cyber Terrorism', 'Impersonating Email',\n",
       "       'Website DefacementHacking', 'Ransomware',\n",
       "       'Computer Generated CSAM/CSEM', 'Intimidating Email',\n",
       "       'Cyber Blackmailing & Threatening', 'Sexual Harassment'],\n",
       "      dtype=object)"
      ]
     },
     "execution_count": 25,
     "metadata": {},
     "output_type": "execute_result"
    }
   ],
   "source": [
    "df['sub_category']=df['sub_category'].replace('RapeGang Rape RGRSexually Abusive Content','Rape/Gang Rape-Sexually Abusive Content')\n",
    "df['sub_category']=df['sub_category'].str.strip()\n",
    "df['sub_category'].unique()"
   ]
  },
  {
   "cell_type": "code",
   "execution_count": 26,
   "metadata": {},
   "outputs": [
    {
     "data": {
      "text/plain": [
       "array(['Rape/Gang Rape-Sexually Abusive Content',\n",
       "       'Debit/Credit Card Fraud Or SIM Swap Fraud', 'SQL Injection',\n",
       "       'Fraud Call/Vishing', 'Other', 'Internet Banking Related Fraud',\n",
       "       'Unauthorised AccessData Breach', 'UPI Related Frauds',\n",
       "       'Sexually Explicit Act', 'Damage to computer computer systems etc',\n",
       "       'Sexually Obscene material', 'Cheating by Impersonation',\n",
       "       'Child Pornography CPChild Sexual Abuse Material CSAM',\n",
       "       'Malware Attack', 'EWallet Related Fraud', 'EMail Phishing',\n",
       "       'Profile Hacking Identity Theft', 'Data Breach/Theft',\n",
       "       'FakeImpersonating Profile', 'Email Hacking', 'Online Job Fraud',\n",
       "       'Cyber Bullying/Stalking/Sexting', 'Hacking/Defacement',\n",
       "       'Cryptocurrency Fraud', 'Online Matrimonial Fraud',\n",
       "       'Tampering with computer source documents',\n",
       "       'Denial of Service (DoS)/Distributed Denial of Service (DDOS) attacks',\n",
       "       'DematDepository Fraud', 'Provocative Speech for unlawful acts',\n",
       "       'Online Gambling  Betting', 'Ransomware Attack',\n",
       "       'Business Email CompromiseEmail Takeover', 'Online Trafficking',\n",
       "       'Cyber Terrorism', 'Impersonating Email',\n",
       "       'Website DefacementHacking', 'Ransomware',\n",
       "       'Computer Generated CSAM/CSEM', 'Intimidating Email',\n",
       "       'Cyber Blackmailing & Threatening', 'Sexual Harassment'],\n",
       "      dtype=object)"
      ]
     },
     "execution_count": 26,
     "metadata": {},
     "output_type": "execute_result"
    }
   ],
   "source": [
    "df['sub_category']=df['sub_category'].replace('DebitCredit Card FraudSim Swap Fraud','Debit/Credit Card Fraud Or SIM Swap Fraud')\n",
    "df['sub_category']=df['sub_category'].str.strip()\n",
    "df['sub_category'].unique()"
   ]
  },
  {
   "cell_type": "code",
   "execution_count": 27,
   "metadata": {},
   "outputs": [
    {
     "data": {
      "text/plain": [
       "array(['Rape/Gang Rape-Sexually Abusive Content',\n",
       "       'Debit/Credit Card Fraud Or SIM Swap Fraud', 'SQL Injection',\n",
       "       'Fraud Call/Vishing', 'Other', 'Internet Banking Related Fraud',\n",
       "       'Unauthorised AccessData Breach', 'UPI Related Frauds',\n",
       "       'Sexually Explicit Act', 'Damage to computer computer systems etc',\n",
       "       'Sexually Obscene material', 'Cheating by Impersonation',\n",
       "       'Child Pornography CPChild Sexual Abuse Material CSAM',\n",
       "       'Malware Attack', 'EWallet Related Fraud', 'EMail Phishing',\n",
       "       'Profile Hacking Identity Theft', 'Data Breach/Theft',\n",
       "       'FakeImpersonating Profile', 'Email Hacking', 'Online Job Fraud',\n",
       "       'Cyber Bullying/Stalking/Sexting', 'Hacking/Defacement',\n",
       "       'Cryptocurrency Fraud', 'Online Matrimonial Fraud',\n",
       "       'Tampering with computer source documents',\n",
       "       'Denial of Service (DoS)/Distributed Denial of Service (DDOS) attacks',\n",
       "       'DematDepository Fraud', 'Provocative Speech for unlawful acts',\n",
       "       'Online Gambling  Betting', 'Ransomware Attack',\n",
       "       'Business Email Compromise/Email Takeover', 'Online Trafficking',\n",
       "       'Cyber Terrorism', 'Impersonating Email',\n",
       "       'Website DefacementHacking', 'Ransomware',\n",
       "       'Computer Generated CSAM/CSEM', 'Intimidating Email',\n",
       "       'Cyber Blackmailing & Threatening', 'Sexual Harassment'],\n",
       "      dtype=object)"
      ]
     },
     "execution_count": 27,
     "metadata": {},
     "output_type": "execute_result"
    }
   ],
   "source": [
    "df['sub_category']=df['sub_category'].replace('Business Email CompromiseEmail Takeover','Business Email Compromise/Email Takeover')\n",
    "df['sub_category']=df['sub_category'].str.strip()\n",
    "df['sub_category'].unique()"
   ]
  },
  {
   "cell_type": "code",
   "execution_count": 28,
   "metadata": {},
   "outputs": [
    {
     "data": {
      "text/plain": [
       "array(['Rape/Gang Rape-Sexually Abusive Content',\n",
       "       'Debit/Credit Card Fraud Or SIM Swap Fraud', 'SQL Injection',\n",
       "       'Fraud Call/Vishing', 'Other', 'Internet Banking Related Fraud',\n",
       "       'Unauthorised Access/Data Breach', 'UPI Related Frauds',\n",
       "       'Sexually Explicit Act', 'Damage to computer computer systems etc',\n",
       "       'Sexually Obscene material', 'Cheating by Impersonation',\n",
       "       'Child Pornography CPChild Sexual Abuse Material CSAM',\n",
       "       'Malware Attack', 'EWallet Related Fraud', 'EMail Phishing',\n",
       "       'Profile Hacking Identity Theft', 'Data Breach/Theft',\n",
       "       'FakeImpersonating Profile', 'Email Hacking', 'Online Job Fraud',\n",
       "       'Cyber Bullying/Stalking/Sexting', 'Hacking/Defacement',\n",
       "       'Cryptocurrency Fraud', 'Online Matrimonial Fraud',\n",
       "       'Tampering with computer source documents',\n",
       "       'Denial of Service (DoS)/Distributed Denial of Service (DDOS) attacks',\n",
       "       'DematDepository Fraud', 'Provocative Speech for unlawful acts',\n",
       "       'Online Gambling  Betting', 'Ransomware Attack',\n",
       "       'Business Email Compromise/Email Takeover', 'Online Trafficking',\n",
       "       'Cyber Terrorism', 'Impersonating Email',\n",
       "       'Website DefacementHacking', 'Ransomware',\n",
       "       'Computer Generated CSAM/CSEM', 'Intimidating Email',\n",
       "       'Cyber Blackmailing & Threatening', 'Sexual Harassment'],\n",
       "      dtype=object)"
      ]
     },
     "execution_count": 28,
     "metadata": {},
     "output_type": "execute_result"
    }
   ],
   "source": [
    "df['sub_category']=df['sub_category'].replace('Unauthorised AccessData Breach','Unauthorised Access/Data Breach')\n",
    "df['sub_category']=df['sub_category'].str.strip()\n",
    "df['sub_category'].unique()"
   ]
  },
  {
   "cell_type": "code",
   "execution_count": 29,
   "metadata": {},
   "outputs": [
    {
     "data": {
      "text/plain": [
       "array(['Rape/Gang Rape-Sexually Abusive Content',\n",
       "       'Debit/Credit Card Fraud Or SIM Swap Fraud', 'SQL Injection',\n",
       "       'Fraud Call/Vishing', 'Other', 'Internet Banking Related Fraud',\n",
       "       'Unauthorised Access/Data Breach', 'UPI Related Frauds',\n",
       "       'Sexually Explicit Act', 'Damage to computer computer systems etc',\n",
       "       'Sexually Obscene material', 'Cheating by Impersonation',\n",
       "       'Child Pornography/Child Sexual Abuse Material (CSAM)',\n",
       "       'Malware Attack', 'EWallet Related Fraud', 'EMail Phishing',\n",
       "       'Profile Hacking Identity Theft', 'Data Breach/Theft',\n",
       "       'FakeImpersonating Profile', 'Email Hacking', 'Online Job Fraud',\n",
       "       'Cyber Bullying/Stalking/Sexting', 'Hacking/Defacement',\n",
       "       'Cryptocurrency Fraud', 'Online Matrimonial Fraud',\n",
       "       'Tampering with computer source documents',\n",
       "       'Denial of Service (DoS)/Distributed Denial of Service (DDOS) attacks',\n",
       "       'DematDepository Fraud', 'Provocative Speech for unlawful acts',\n",
       "       'Online Gambling  Betting', 'Ransomware Attack',\n",
       "       'Business Email Compromise/Email Takeover', 'Online Trafficking',\n",
       "       'Cyber Terrorism', 'Impersonating Email',\n",
       "       'Website DefacementHacking', 'Ransomware',\n",
       "       'Computer Generated CSAM/CSEM', 'Intimidating Email',\n",
       "       'Cyber Blackmailing & Threatening', 'Sexual Harassment'],\n",
       "      dtype=object)"
      ]
     },
     "execution_count": 29,
     "metadata": {},
     "output_type": "execute_result"
    }
   ],
   "source": [
    "df['sub_category']=df['sub_category'].replace('Child Pornography CPChild Sexual Abuse Material CSAM','Child Pornography/Child Sexual Abuse Material (CSAM)')\n",
    "df['sub_category']=df['sub_category'].str.strip()\n",
    "df['sub_category'].unique()"
   ]
  },
  {
   "cell_type": "code",
   "execution_count": 30,
   "metadata": {},
   "outputs": [
    {
     "data": {
      "text/plain": [
       "array(['Rape/Gang Rape-Sexually Abusive Content',\n",
       "       'Debit/Credit Card Fraud Or SIM Swap Fraud', 'SQL Injection',\n",
       "       'Fraud Call/Vishing', 'Other', 'Internet Banking Related Fraud',\n",
       "       'Unauthorised Access/Data Breach', 'UPI Related Frauds',\n",
       "       'Sexually Explicit Act', 'Damage to computer computer systems etc',\n",
       "       'Sexually Obscene material', 'Cheating by Impersonation',\n",
       "       'Child Pornography/Child Sexual Abuse Material (CSAM)',\n",
       "       'Malware Attack', 'EWallet Related Fraud', 'EMail Phishing',\n",
       "       'Profile Hacking Identity Theft', 'Data Breach/Theft',\n",
       "       'FakeImpersonating Profile', 'Email Hacking', 'Online Job Fraud',\n",
       "       'Cyber Bullying/Stalking/Sexting', 'Hacking/Defacement',\n",
       "       'Cryptocurrency Fraud', 'Online Matrimonial Fraud',\n",
       "       'Tampering with computer source documents',\n",
       "       'Denial of Service (DoS)/Distributed Denial of Service (DDOS) attacks',\n",
       "       'Demat/Depository Fraud', 'Provocative Speech for unlawful acts',\n",
       "       'Online Gambling  Betting', 'Ransomware Attack',\n",
       "       'Business Email Compromise/Email Takeover', 'Online Trafficking',\n",
       "       'Cyber Terrorism', 'Impersonating Email',\n",
       "       'Website DefacementHacking', 'Ransomware',\n",
       "       'Computer Generated CSAM/CSEM', 'Intimidating Email',\n",
       "       'Cyber Blackmailing & Threatening', 'Sexual Harassment'],\n",
       "      dtype=object)"
      ]
     },
     "execution_count": 30,
     "metadata": {},
     "output_type": "execute_result"
    }
   ],
   "source": [
    "df['sub_category']=df['sub_category'].replace('DematDepository Fraud','Demat/Depository Fraud')\n",
    "df['sub_category']=df['sub_category'].str.strip()\n",
    "df['sub_category'].unique()"
   ]
  },
  {
   "cell_type": "code",
   "execution_count": 31,
   "metadata": {},
   "outputs": [
    {
     "data": {
      "text/plain": [
       "array(['Rape/Gang Rape-Sexually Abusive Content',\n",
       "       'Debit/Credit Card Fraud Or SIM Swap Fraud', 'SQL Injection',\n",
       "       'Fraud Call/Vishing', 'Other', 'Internet Banking Related Fraud',\n",
       "       'Unauthorised Access/Data Breach', 'UPI Related Frauds',\n",
       "       'Sexually Explicit Act', 'Damage to computer computer systems etc',\n",
       "       'Sexually Obscene material', 'Cheating by Impersonation',\n",
       "       'Child Pornography/Child Sexual Abuse Material (CSAM)',\n",
       "       'Malware Attack', 'EWallet Related Fraud', 'EMail Phishing',\n",
       "       'Profile Hacking Identity Theft', 'Data Breach/Theft',\n",
       "       'FakeImpersonating Profile', 'Email Hacking', 'Online Job Fraud',\n",
       "       'Cyber Bullying/Stalking/Sexting', 'Hacking/Defacement',\n",
       "       'Cryptocurrency Fraud', 'Online Matrimonial Fraud',\n",
       "       'Tampering with computer source documents',\n",
       "       'Denial of Service (DoS)/Distributed Denial of Service (DDOS) attacks',\n",
       "       'Demat/Depository Fraud', 'Provocative Speech for unlawful acts',\n",
       "       'Online Gambling  Betting', 'Ransomware Attack',\n",
       "       'Business Email Compromise/Email Takeover', 'Online Trafficking',\n",
       "       'Cyber Terrorism', 'Impersonating Email', 'Defacement/Hacking',\n",
       "       'Ransomware', 'Computer Generated CSAM/CSEM', 'Intimidating Email',\n",
       "       'Cyber Blackmailing & Threatening', 'Sexual Harassment'],\n",
       "      dtype=object)"
      ]
     },
     "execution_count": 31,
     "metadata": {},
     "output_type": "execute_result"
    }
   ],
   "source": [
    "df['sub_category']=df['sub_category'].replace('Website DefacementHacking','Defacement/Hacking')\n",
    "df['sub_category']=df['sub_category'].str.strip()\n",
    "df['sub_category'].unique()"
   ]
  },
  {
   "cell_type": "code",
   "execution_count": 32,
   "metadata": {},
   "outputs": [
    {
     "data": {
      "text/plain": [
       "array(['Rape/Gang Rape-Sexually Abusive Content',\n",
       "       'Debit/Credit Card Fraud Or SIM Swap Fraud', 'SQL Injection',\n",
       "       'Fraud Call/Vishing', 'Other', 'Internet Banking Related Fraud',\n",
       "       'Unauthorised Access/Data Breach', 'UPI Related Frauds',\n",
       "       'Sexually Explicit Act', 'Damage to Computer Systems',\n",
       "       'Sexually Obscene material', 'Cheating by Impersonation',\n",
       "       'Child Pornography/Child Sexual Abuse Material (CSAM)',\n",
       "       'Malware Attack', 'EWallet Related Fraud', 'EMail Phishing',\n",
       "       'Profile Hacking Identity Theft', 'Data Breach/Theft',\n",
       "       'FakeImpersonating Profile', 'Email Hacking', 'Online Job Fraud',\n",
       "       'Cyber Bullying/Stalking/Sexting', 'Hacking/Defacement',\n",
       "       'Cryptocurrency Fraud', 'Online Matrimonial Fraud',\n",
       "       'Tampering with computer source documents',\n",
       "       'Denial of Service (DoS)/Distributed Denial of Service (DDOS) attacks',\n",
       "       'Demat/Depository Fraud', 'Provocative Speech for unlawful acts',\n",
       "       'Online Gambling  Betting', 'Ransomware Attack',\n",
       "       'Business Email Compromise/Email Takeover', 'Online Trafficking',\n",
       "       'Cyber Terrorism', 'Impersonating Email', 'Defacement/Hacking',\n",
       "       'Ransomware', 'Computer Generated CSAM/CSEM', 'Intimidating Email',\n",
       "       'Cyber Blackmailing & Threatening', 'Sexual Harassment'],\n",
       "      dtype=object)"
      ]
     },
     "execution_count": 32,
     "metadata": {},
     "output_type": "execute_result"
    }
   ],
   "source": [
    "df['sub_category']=df['sub_category'].replace('Damage to computer computer systems etc','Damage to Computer Systems')\n",
    "df['sub_category']=df['sub_category'].str.strip()\n",
    "df['sub_category'].unique()"
   ]
  },
  {
   "cell_type": "markdown",
   "metadata": {},
   "source": [
    "## Now we process the creminalinfo data"
   ]
  },
  {
   "cell_type": "code",
   "execution_count": 33,
   "metadata": {},
   "outputs": [
    {
     "data": {
      "text/plain": [
       "category              0\n",
       "sub_category          0\n",
       "crimeaditionalinfo    0\n",
       "dtype: int64"
      ]
     },
     "execution_count": 33,
     "metadata": {},
     "output_type": "execute_result"
    }
   ],
   "source": [
    "df.isnull().sum()"
   ]
  },
  {
   "cell_type": "markdown",
   "metadata": {},
   "source": [
    "## Now we lower the all the data it is good keep data in one case"
   ]
  },
  {
   "cell_type": "code",
   "execution_count": 34,
   "metadata": {},
   "outputs": [],
   "source": [
    "df['crimeaditionalinfo']=df['crimeaditionalinfo'].str.lower()\n",
    "df['category']=df['category'].str.lower()\n",
    "df['sub_category']=df['sub_category'].str.lower()\n"
   ]
  },
  {
   "cell_type": "code",
   "execution_count": 35,
   "metadata": {},
   "outputs": [
    {
     "data": {
      "text/html": [
       "<div>\n",
       "<style scoped>\n",
       "    .dataframe tbody tr th:only-of-type {\n",
       "        vertical-align: middle;\n",
       "    }\n",
       "\n",
       "    .dataframe tbody tr th {\n",
       "        vertical-align: top;\n",
       "    }\n",
       "\n",
       "    .dataframe thead th {\n",
       "        text-align: right;\n",
       "    }\n",
       "</style>\n",
       "<table border=\"1\" class=\"dataframe\">\n",
       "  <thead>\n",
       "    <tr style=\"text-align: right;\">\n",
       "      <th></th>\n",
       "      <th>category</th>\n",
       "      <th>sub_category</th>\n",
       "      <th>crimeaditionalinfo</th>\n",
       "    </tr>\n",
       "  </thead>\n",
       "  <tbody>\n",
       "    <tr>\n",
       "      <th>0</th>\n",
       "      <td>women/child related crime</td>\n",
       "      <td>rape/gang rape-sexually abusive content</td>\n",
       "      <td>sir namaskar  mein ranjit kumar patrapaise neh...</td>\n",
       "    </tr>\n",
       "    <tr>\n",
       "      <th>1</th>\n",
       "      <td>online financial fraud</td>\n",
       "      <td>debit/credit card fraud or sim swap fraud</td>\n",
       "      <td>kotak mahindra bank fraud\\r\\nfraud amount</td>\n",
       "    </tr>\n",
       "    <tr>\n",
       "      <th>2</th>\n",
       "      <td>cyber attack/ dependent crimes</td>\n",
       "      <td>sql injection</td>\n",
       "      <td>the issue actually started when i got this ema...</td>\n",
       "    </tr>\n",
       "    <tr>\n",
       "      <th>3</th>\n",
       "      <td>online financial fraud</td>\n",
       "      <td>fraud call/vishing</td>\n",
       "      <td>i am amit kumar from karwi chitrakoot i am tot...</td>\n",
       "    </tr>\n",
       "    <tr>\n",
       "      <th>4</th>\n",
       "      <td>any other cyber crime</td>\n",
       "      <td>other</td>\n",
       "      <td>i have ordered  saree and  blouse from rinki s...</td>\n",
       "    </tr>\n",
       "    <tr>\n",
       "      <th>...</th>\n",
       "      <td>...</td>\n",
       "      <td>...</td>\n",
       "      <td>...</td>\n",
       "    </tr>\n",
       "    <tr>\n",
       "      <th>31224</th>\n",
       "      <td>online and social media related crime</td>\n",
       "      <td>online matrimonial fraud</td>\n",
       "      <td>a lady named rashmi probably a fake name had c...</td>\n",
       "    </tr>\n",
       "    <tr>\n",
       "      <th>31225</th>\n",
       "      <td>online financial fraud</td>\n",
       "      <td>internet banking related fraud</td>\n",
       "      <td>i am mr chokhe ram  two pers mobile number wer...</td>\n",
       "    </tr>\n",
       "    <tr>\n",
       "      <th>31226</th>\n",
       "      <td>any other cyber crime</td>\n",
       "      <td>other</td>\n",
       "      <td>mai bibekbraj maine pahle ki complain kar chuk...</td>\n",
       "    </tr>\n",
       "    <tr>\n",
       "      <th>31227</th>\n",
       "      <td>online financial fraud</td>\n",
       "      <td>internet banking related fraud</td>\n",
       "      <td>received url link for updating kyc from mobile...</td>\n",
       "    </tr>\n",
       "    <tr>\n",
       "      <th>31228</th>\n",
       "      <td>any other cyber crime</td>\n",
       "      <td>other</td>\n",
       "      <td>i saw add on facebook for job placement and i ...</td>\n",
       "    </tr>\n",
       "  </tbody>\n",
       "</table>\n",
       "<p>31222 rows × 3 columns</p>\n",
       "</div>"
      ],
      "text/plain": [
       "                                    category  \\\n",
       "0                  women/child related crime   \n",
       "1                     online financial fraud   \n",
       "2             cyber attack/ dependent crimes   \n",
       "3                     online financial fraud   \n",
       "4                      any other cyber crime   \n",
       "...                                      ...   \n",
       "31224  online and social media related crime   \n",
       "31225                 online financial fraud   \n",
       "31226                  any other cyber crime   \n",
       "31227                 online financial fraud   \n",
       "31228                  any other cyber crime   \n",
       "\n",
       "                                    sub_category  \\\n",
       "0        rape/gang rape-sexually abusive content   \n",
       "1      debit/credit card fraud or sim swap fraud   \n",
       "2                                  sql injection   \n",
       "3                             fraud call/vishing   \n",
       "4                                          other   \n",
       "...                                          ...   \n",
       "31224                   online matrimonial fraud   \n",
       "31225             internet banking related fraud   \n",
       "31226                                      other   \n",
       "31227             internet banking related fraud   \n",
       "31228                                      other   \n",
       "\n",
       "                                      crimeaditionalinfo  \n",
       "0      sir namaskar  mein ranjit kumar patrapaise neh...  \n",
       "1              kotak mahindra bank fraud\\r\\nfraud amount  \n",
       "2      the issue actually started when i got this ema...  \n",
       "3      i am amit kumar from karwi chitrakoot i am tot...  \n",
       "4      i have ordered  saree and  blouse from rinki s...  \n",
       "...                                                  ...  \n",
       "31224  a lady named rashmi probably a fake name had c...  \n",
       "31225  i am mr chokhe ram  two pers mobile number wer...  \n",
       "31226  mai bibekbraj maine pahle ki complain kar chuk...  \n",
       "31227  received url link for updating kyc from mobile...  \n",
       "31228  i saw add on facebook for job placement and i ...  \n",
       "\n",
       "[31222 rows x 3 columns]"
      ]
     },
     "execution_count": 35,
     "metadata": {},
     "output_type": "execute_result"
    }
   ],
   "source": [
    "df"
   ]
  },
  {
   "cell_type": "code",
   "execution_count": 36,
   "metadata": {},
   "outputs": [],
   "source": [
    "df.to_csv('../processed_data/processed_test.csv', index=False)"
   ]
  },
  {
   "cell_type": "code",
   "execution_count": 37,
   "metadata": {},
   "outputs": [
    {
     "name": "stdout",
     "output_type": "stream",
     "text": [
      "sub_category\n",
      "upi related frauds                                                      8886\n",
      "other                                                                   3670\n",
      "debit/credit card fraud or sim swap fraud                               3555\n",
      "internet banking related fraud                                          2973\n",
      "fraud call/vishing                                                      1826\n",
      "cyber bullying/stalking/sexting                                         1366\n",
      "ewallet related fraud                                                   1338\n",
      "rape/gang rape-sexually abusive content                                  912\n",
      "fakeimpersonating profile                                                763\n",
      "profile hacking identity theft                                           751\n",
      "cheating by impersonation                                                719\n",
      "sexually obscene material                                                665\n",
      "sexually explicit act                                                    535\n",
      "unauthorised access/data breach                                          370\n",
      "online job fraud                                                         294\n",
      "demat/depository fraud                                                   222\n",
      "hacking/defacement                                                       200\n",
      "tampering with computer source documents                                 194\n",
      "denial of service (dos)/distributed denial of service (ddos) attacks     187\n",
      "ransomware attack                                                        186\n",
      "data breach/theft                                                        171\n",
      "malware attack                                                           170\n",
      "sql injection                                                            167\n",
      "cryptocurrency fraud                                                     166\n",
      "online gambling  betting                                                 134\n",
      "email hacking                                                            130\n",
      "provocative speech for unlawful acts                                     130\n",
      "child pornography/child sexual abuse material (csam)                     123\n",
      "business email compromise/email takeover                                  90\n",
      "online trafficking                                                        61\n",
      "email phishing                                                            54\n",
      "cyber terrorism                                                           52\n",
      "damage to computer systems                                                39\n",
      "defacement/hacking                                                        39\n",
      "online matrimonial fraud                                                  38\n",
      "ransomware                                                                18\n",
      "impersonating email                                                       13\n",
      "intimidating email                                                        11\n",
      "computer generated csam/csem                                               2\n",
      "cyber blackmailing & threatening                                           1\n",
      "sexual harassment                                                          1\n",
      "Name: count, dtype: int64\n",
      "category\n",
      "online financial fraud                            18890\n",
      "online and social media related crime              4139\n",
      "any other cyber crime                              3670\n",
      "women/child related crime                          2235\n",
      "cyber attack/ dependent crimes                     1261\n",
      "hacking  damage to computercomputer system etc      592\n",
      "cryptocurrency crime                                166\n",
      "online gambling  betting                            134\n",
      "online cyber trafficking                             61\n",
      "cyber terrorism                                      52\n",
      "ransomware                                           18\n",
      "crime against women & children                        4\n",
      "Name: count, dtype: int64\n"
     ]
    }
   ],
   "source": [
    "# Check class distribution in training set\n",
    "print(df['sub_category'].value_counts())\n"
   ]
  },
  {
   "cell_type": "code",
   "execution_count": 38,
   "metadata": {},
   "outputs": [
    {
     "name": "stdout",
     "output_type": "stream",
     "text": [
      "category\n",
      "online financial fraud                            18890\n",
      "online and social media related crime              4139\n",
      "any other cyber crime                              3670\n",
      "women/child related crime                          2235\n",
      "cyber attack/ dependent crimes                     1261\n",
      "hacking  damage to computercomputer system etc      592\n",
      "cryptocurrency crime                                166\n",
      "online gambling  betting                            134\n",
      "online cyber trafficking                             61\n",
      "cyber terrorism                                      52\n",
      "ransomware                                           18\n",
      "crime against women & children                        4\n",
      "Name: count, dtype: int64\n"
     ]
    }
   ],
   "source": [
    "print(df['category'].value_counts())"
   ]
  },
  {
   "cell_type": "code",
   "execution_count": null,
   "metadata": {},
   "outputs": [],
   "source": []
  }
 ],
 "metadata": {
  "kernelspec": {
   "display_name": "Python 3",
   "language": "python",
   "name": "python3"
  },
  "language_info": {
   "codemirror_mode": {
    "name": "ipython",
    "version": 3
   },
   "file_extension": ".py",
   "mimetype": "text/x-python",
   "name": "python",
   "nbconvert_exporter": "python",
   "pygments_lexer": "ipython3",
   "version": "3.12.3"
  }
 },
 "nbformat": 4,
 "nbformat_minor": 2
}
