{
 "cells": [
  {
   "cell_type": "code",
   "execution_count": 1,
   "metadata": {},
   "outputs": [],
   "source": [
    "import pandas as pd"
   ]
  },
  {
   "cell_type": "markdown",
   "metadata": {},
   "source": [
    "# Read CSV files using Pandas"
   ]
  },
  {
   "cell_type": "code",
   "execution_count": 2,
   "metadata": {},
   "outputs": [],
   "source": [
    "df=pd.read_csv(\"../data/train.csv\")\n",
    "\n"
   ]
  },
  {
   "cell_type": "markdown",
   "metadata": {},
   "source": [
    "## Number of rows in the given datastore"
   ]
  },
  {
   "cell_type": "code",
   "execution_count": 3,
   "metadata": {},
   "outputs": [
    {
     "data": {
      "text/plain": [
       "93686"
      ]
     },
     "execution_count": 3,
     "metadata": {},
     "output_type": "execute_result"
    }
   ],
   "source": [
    "len(df)"
   ]
  },
  {
   "cell_type": "markdown",
   "metadata": {},
   "source": [
    "## display first rows"
   ]
  },
  {
   "cell_type": "code",
   "execution_count": 4,
   "metadata": {},
   "outputs": [
    {
     "data": {
      "text/html": [
       "<div>\n",
       "<style scoped>\n",
       "    .dataframe tbody tr th:only-of-type {\n",
       "        vertical-align: middle;\n",
       "    }\n",
       "\n",
       "    .dataframe tbody tr th {\n",
       "        vertical-align: top;\n",
       "    }\n",
       "\n",
       "    .dataframe thead th {\n",
       "        text-align: right;\n",
       "    }\n",
       "</style>\n",
       "<table border=\"1\" class=\"dataframe\">\n",
       "  <thead>\n",
       "    <tr style=\"text-align: right;\">\n",
       "      <th></th>\n",
       "      <th>category</th>\n",
       "      <th>sub_category</th>\n",
       "      <th>crimeaditionalinfo</th>\n",
       "    </tr>\n",
       "  </thead>\n",
       "  <tbody>\n",
       "    <tr>\n",
       "      <th>0</th>\n",
       "      <td>Online and Social Media Related Crime</td>\n",
       "      <td>Cyber Bullying  Stalking  Sexting</td>\n",
       "      <td>I had continue received random calls and abusi...</td>\n",
       "    </tr>\n",
       "    <tr>\n",
       "      <th>1</th>\n",
       "      <td>Online Financial Fraud</td>\n",
       "      <td>Fraud CallVishing</td>\n",
       "      <td>The above fraudster is continuously messaging ...</td>\n",
       "    </tr>\n",
       "    <tr>\n",
       "      <th>2</th>\n",
       "      <td>Online Gambling  Betting</td>\n",
       "      <td>Online Gambling  Betting</td>\n",
       "      <td>He is acting like a police and demanding for m...</td>\n",
       "    </tr>\n",
       "    <tr>\n",
       "      <th>3</th>\n",
       "      <td>Online and Social Media Related Crime</td>\n",
       "      <td>Online Job Fraud</td>\n",
       "      <td>In apna Job I have applied for job interview f...</td>\n",
       "    </tr>\n",
       "    <tr>\n",
       "      <th>4</th>\n",
       "      <td>Online Financial Fraud</td>\n",
       "      <td>Fraud CallVishing</td>\n",
       "      <td>I received a call from lady stating that she w...</td>\n",
       "    </tr>\n",
       "    <tr>\n",
       "      <th>5</th>\n",
       "      <td>Online Financial Fraud</td>\n",
       "      <td>UPI Related Frauds</td>\n",
       "      <td>FRAUD \\t UPI PAYTM \\r\\nBANK \\tPunjab National ...</td>\n",
       "    </tr>\n",
       "    <tr>\n",
       "      <th>6</th>\n",
       "      <td>Online Financial Fraud</td>\n",
       "      <td>Fraud CallVishing</td>\n",
       "      <td>Sir I am Prabhat Singh jat  An app on playstor...</td>\n",
       "    </tr>\n",
       "    <tr>\n",
       "      <th>7</th>\n",
       "      <td>Online Financial Fraud</td>\n",
       "      <td>Internet Banking Related Fraud</td>\n",
       "      <td>FINANCIAL FRAUD  RS</td>\n",
       "    </tr>\n",
       "    <tr>\n",
       "      <th>8</th>\n",
       "      <td>RapeGang Rape RGRSexually Abusive Content</td>\n",
       "      <td>NaN</td>\n",
       "      <td>I got the message on Whatsapp to my number The...</td>\n",
       "    </tr>\n",
       "    <tr>\n",
       "      <th>9</th>\n",
       "      <td>Any Other Cyber Crime</td>\n",
       "      <td>Other</td>\n",
       "      <td>Details entered in pdf file Person posing as A...</td>\n",
       "    </tr>\n",
       "  </tbody>\n",
       "</table>\n",
       "</div>"
      ],
      "text/plain": [
       "                                    category  \\\n",
       "0      Online and Social Media Related Crime   \n",
       "1                     Online Financial Fraud   \n",
       "2                   Online Gambling  Betting   \n",
       "3      Online and Social Media Related Crime   \n",
       "4                     Online Financial Fraud   \n",
       "5                     Online Financial Fraud   \n",
       "6                     Online Financial Fraud   \n",
       "7                     Online Financial Fraud   \n",
       "8  RapeGang Rape RGRSexually Abusive Content   \n",
       "9                      Any Other Cyber Crime   \n",
       "\n",
       "                        sub_category  \\\n",
       "0  Cyber Bullying  Stalking  Sexting   \n",
       "1                  Fraud CallVishing   \n",
       "2           Online Gambling  Betting   \n",
       "3                   Online Job Fraud   \n",
       "4                  Fraud CallVishing   \n",
       "5                 UPI Related Frauds   \n",
       "6                  Fraud CallVishing   \n",
       "7     Internet Banking Related Fraud   \n",
       "8                                NaN   \n",
       "9                              Other   \n",
       "\n",
       "                                  crimeaditionalinfo  \n",
       "0  I had continue received random calls and abusi...  \n",
       "1  The above fraudster is continuously messaging ...  \n",
       "2  He is acting like a police and demanding for m...  \n",
       "3  In apna Job I have applied for job interview f...  \n",
       "4  I received a call from lady stating that she w...  \n",
       "5  FRAUD \\t UPI PAYTM \\r\\nBANK \\tPunjab National ...  \n",
       "6  Sir I am Prabhat Singh jat  An app on playstor...  \n",
       "7                               FINANCIAL FRAUD  RS   \n",
       "8  I got the message on Whatsapp to my number The...  \n",
       "9  Details entered in pdf file Person posing as A...  "
      ]
     },
     "execution_count": 4,
     "metadata": {},
     "output_type": "execute_result"
    }
   ],
   "source": [
    "df.head(10)"
   ]
  },
  {
   "cell_type": "markdown",
   "metadata": {},
   "source": [
    "## display columns names"
   ]
  },
  {
   "cell_type": "code",
   "execution_count": 5,
   "metadata": {},
   "outputs": [
    {
     "data": {
      "text/plain": [
       "Index(['category', 'sub_category', 'crimeaditionalinfo'], dtype='object')"
      ]
     },
     "execution_count": 5,
     "metadata": {},
     "output_type": "execute_result"
    }
   ],
   "source": [
    "df.columns\n"
   ]
  },
  {
   "cell_type": "markdown",
   "metadata": {},
   "source": [
    "## display dataset information"
   ]
  },
  {
   "cell_type": "code",
   "execution_count": 6,
   "metadata": {},
   "outputs": [
    {
     "data": {
      "text/html": [
       "<div>\n",
       "<style scoped>\n",
       "    .dataframe tbody tr th:only-of-type {\n",
       "        vertical-align: middle;\n",
       "    }\n",
       "\n",
       "    .dataframe tbody tr th {\n",
       "        vertical-align: top;\n",
       "    }\n",
       "\n",
       "    .dataframe thead th {\n",
       "        text-align: right;\n",
       "    }\n",
       "</style>\n",
       "<table border=\"1\" class=\"dataframe\">\n",
       "  <thead>\n",
       "    <tr style=\"text-align: right;\">\n",
       "      <th></th>\n",
       "      <th>category</th>\n",
       "      <th>sub_category</th>\n",
       "      <th>crimeaditionalinfo</th>\n",
       "    </tr>\n",
       "  </thead>\n",
       "  <tbody>\n",
       "    <tr>\n",
       "      <th>count</th>\n",
       "      <td>93686</td>\n",
       "      <td>87095</td>\n",
       "      <td>93665</td>\n",
       "    </tr>\n",
       "    <tr>\n",
       "      <th>unique</th>\n",
       "      <td>15</td>\n",
       "      <td>35</td>\n",
       "      <td>85013</td>\n",
       "    </tr>\n",
       "    <tr>\n",
       "      <th>top</th>\n",
       "      <td>Online Financial Fraud</td>\n",
       "      <td>UPI Related Frauds</td>\n",
       "      <td>Respected Sir\\r\\n\\r\\nA very serious matter I w...</td>\n",
       "    </tr>\n",
       "    <tr>\n",
       "      <th>freq</th>\n",
       "      <td>57434</td>\n",
       "      <td>26856</td>\n",
       "      <td>2342</td>\n",
       "    </tr>\n",
       "  </tbody>\n",
       "</table>\n",
       "</div>"
      ],
      "text/plain": [
       "                      category        sub_category  \\\n",
       "count                    93686               87095   \n",
       "unique                      15                  35   \n",
       "top     Online Financial Fraud  UPI Related Frauds   \n",
       "freq                     57434               26856   \n",
       "\n",
       "                                       crimeaditionalinfo  \n",
       "count                                               93665  \n",
       "unique                                              85013  \n",
       "top     Respected Sir\\r\\n\\r\\nA very serious matter I w...  \n",
       "freq                                                 2342  "
      ]
     },
     "execution_count": 6,
     "metadata": {},
     "output_type": "execute_result"
    }
   ],
   "source": [
    "df.describe()\n"
   ]
  },
  {
   "cell_type": "markdown",
   "metadata": {},
   "source": [
    "## Number of NaN values for particular columns"
   ]
  },
  {
   "cell_type": "code",
   "execution_count": 7,
   "metadata": {},
   "outputs": [
    {
     "data": {
      "text/plain": [
       "category                 0\n",
       "sub_category          6591\n",
       "crimeaditionalinfo      21\n",
       "dtype: int64"
      ]
     },
     "execution_count": 7,
     "metadata": {},
     "output_type": "execute_result"
    }
   ],
   "source": [
    "df.isnull().sum()"
   ]
  },
  {
   "cell_type": "markdown",
   "metadata": {},
   "source": [
    "## We have to handle NaN values in the given dataset\n",
    "- here we can see that there are 21 records that have no crimeaditionalinfo so we can drop that rows"
   ]
  },
  {
   "cell_type": "code",
   "execution_count": 8,
   "metadata": {},
   "outputs": [],
   "source": [
    "df_cleaned = df.dropna(subset=['crimeaditionalinfo'])\n"
   ]
  },
  {
   "cell_type": "code",
   "execution_count": 9,
   "metadata": {},
   "outputs": [
    {
     "data": {
      "text/plain": [
       "category                 0\n",
       "sub_category          6591\n",
       "crimeaditionalinfo       0\n",
       "dtype: int64"
      ]
     },
     "execution_count": 9,
     "metadata": {},
     "output_type": "execute_result"
    }
   ],
   "source": [
    "df_cleaned.isnull().sum()"
   ]
  },
  {
   "cell_type": "markdown",
   "metadata": {},
   "source": [
    "### Process Sub Category\n",
    "- Here we can see that there are 6591 NaN values in the sub category so we can drop that also or we have to fill that by replacing some values."
   ]
  },
  {
   "cell_type": "code",
   "execution_count": 10,
   "metadata": {},
   "outputs": [
    {
     "data": {
      "text/plain": [
       "(93665, 3)"
      ]
     },
     "execution_count": 10,
     "metadata": {},
     "output_type": "execute_result"
    }
   ],
   "source": [
    "df_cleaned.shape"
   ]
  },
  {
   "cell_type": "code",
   "execution_count": 11,
   "metadata": {},
   "outputs": [],
   "source": [
    "## New Df\n",
    "df=df_cleaned"
   ]
  },
  {
   "cell_type": "code",
   "execution_count": 12,
   "metadata": {},
   "outputs": [
    {
     "data": {
      "text/html": [
       "<div>\n",
       "<style scoped>\n",
       "    .dataframe tbody tr th:only-of-type {\n",
       "        vertical-align: middle;\n",
       "    }\n",
       "\n",
       "    .dataframe tbody tr th {\n",
       "        vertical-align: top;\n",
       "    }\n",
       "\n",
       "    .dataframe thead th {\n",
       "        text-align: right;\n",
       "    }\n",
       "</style>\n",
       "<table border=\"1\" class=\"dataframe\">\n",
       "  <thead>\n",
       "    <tr style=\"text-align: right;\">\n",
       "      <th></th>\n",
       "      <th>category</th>\n",
       "      <th>sub_category</th>\n",
       "      <th>crimeaditionalinfo</th>\n",
       "    </tr>\n",
       "  </thead>\n",
       "  <tbody>\n",
       "    <tr>\n",
       "      <th>8</th>\n",
       "      <td>RapeGang Rape RGRSexually Abusive Content</td>\n",
       "      <td>NaN</td>\n",
       "      <td>I got the message on Whatsapp to my number The...</td>\n",
       "    </tr>\n",
       "    <tr>\n",
       "      <th>25</th>\n",
       "      <td>RapeGang Rape RGRSexually Abusive Content</td>\n",
       "      <td>NaN</td>\n",
       "      <td>Respected Sir\\r\\n\\r\\nA very serious matter I w...</td>\n",
       "    </tr>\n",
       "    <tr>\n",
       "      <th>39</th>\n",
       "      <td>Sexually Explicit Act</td>\n",
       "      <td>NaN</td>\n",
       "      <td>httpswwwxnxxtvvideousapbfuckkkarrr\\r\\n\\r\\n Abo...</td>\n",
       "    </tr>\n",
       "    <tr>\n",
       "      <th>45</th>\n",
       "      <td>Sexually Obscene material</td>\n",
       "      <td>NaN</td>\n",
       "      <td>Many fake accounts are created and Im sufferin...</td>\n",
       "    </tr>\n",
       "    <tr>\n",
       "      <th>49</th>\n",
       "      <td>Sexually Explicit Act</td>\n",
       "      <td>NaN</td>\n",
       "      <td>SirMaam \\r\\nThis is my third report on this re...</td>\n",
       "    </tr>\n",
       "    <tr>\n",
       "      <th>72</th>\n",
       "      <td>Sexually Explicit Act</td>\n",
       "      <td>NaN</td>\n",
       "      <td>This girl name is geeta  Iss ladki neh normal ...</td>\n",
       "    </tr>\n",
       "    <tr>\n",
       "      <th>77</th>\n",
       "      <td>RapeGang Rape RGRSexually Abusive Content</td>\n",
       "      <td>NaN</td>\n",
       "      <td>Respected Sir\\r\\n\\r\\nA very serious matter I w...</td>\n",
       "    </tr>\n",
       "    <tr>\n",
       "      <th>79</th>\n",
       "      <td>Sexually Explicit Act</td>\n",
       "      <td>NaN</td>\n",
       "      <td>Someone has created a profile on app called ok...</td>\n",
       "    </tr>\n",
       "    <tr>\n",
       "      <th>92</th>\n",
       "      <td>RapeGang Rape RGRSexually Abusive Content</td>\n",
       "      <td>NaN</td>\n",
       "      <td>Respected Sir\\r\\n\\r\\nA very serious matter I w...</td>\n",
       "    </tr>\n",
       "    <tr>\n",
       "      <th>94</th>\n",
       "      <td>Sexually Obscene material</td>\n",
       "      <td>NaN</td>\n",
       "      <td>In twitter we have seen illegally publishing a...</td>\n",
       "    </tr>\n",
       "    <tr>\n",
       "      <th>98</th>\n",
       "      <td>RapeGang Rape RGRSexually Abusive Content</td>\n",
       "      <td>NaN</td>\n",
       "      <td>Respected Sir\\r\\n\\r\\nA very serious matter I w...</td>\n",
       "    </tr>\n",
       "    <tr>\n",
       "      <th>117</th>\n",
       "      <td>RapeGang Rape RGRSexually Abusive Content</td>\n",
       "      <td>NaN</td>\n",
       "      <td>Respected Sir\\r\\n\\r\\nA very serious matter I w...</td>\n",
       "    </tr>\n",
       "    <tr>\n",
       "      <th>122</th>\n",
       "      <td>Sexually Obscene material</td>\n",
       "      <td>NaN</td>\n",
       "      <td>Someone post my nude on Instagram and when I a...</td>\n",
       "    </tr>\n",
       "    <tr>\n",
       "      <th>125</th>\n",
       "      <td>Sexually Explicit Act</td>\n",
       "      <td>NaN</td>\n",
       "      <td>The particular user is making sexual videos ab...</td>\n",
       "    </tr>\n",
       "    <tr>\n",
       "      <th>129</th>\n",
       "      <td>RapeGang Rape RGRSexually Abusive Content</td>\n",
       "      <td>NaN</td>\n",
       "      <td>Respected Sir\\r\\n\\r\\nA very serious matter I w...</td>\n",
       "    </tr>\n",
       "  </tbody>\n",
       "</table>\n",
       "</div>"
      ],
      "text/plain": [
       "                                      category sub_category  \\\n",
       "8    RapeGang Rape RGRSexually Abusive Content          NaN   \n",
       "25   RapeGang Rape RGRSexually Abusive Content          NaN   \n",
       "39                       Sexually Explicit Act          NaN   \n",
       "45                   Sexually Obscene material          NaN   \n",
       "49                       Sexually Explicit Act          NaN   \n",
       "72                       Sexually Explicit Act          NaN   \n",
       "77   RapeGang Rape RGRSexually Abusive Content          NaN   \n",
       "79                       Sexually Explicit Act          NaN   \n",
       "92   RapeGang Rape RGRSexually Abusive Content          NaN   \n",
       "94                   Sexually Obscene material          NaN   \n",
       "98   RapeGang Rape RGRSexually Abusive Content          NaN   \n",
       "117  RapeGang Rape RGRSexually Abusive Content          NaN   \n",
       "122                  Sexually Obscene material          NaN   \n",
       "125                      Sexually Explicit Act          NaN   \n",
       "129  RapeGang Rape RGRSexually Abusive Content          NaN   \n",
       "\n",
       "                                    crimeaditionalinfo  \n",
       "8    I got the message on Whatsapp to my number The...  \n",
       "25   Respected Sir\\r\\n\\r\\nA very serious matter I w...  \n",
       "39   httpswwwxnxxtvvideousapbfuckkkarrr\\r\\n\\r\\n Abo...  \n",
       "45   Many fake accounts are created and Im sufferin...  \n",
       "49   SirMaam \\r\\nThis is my third report on this re...  \n",
       "72   This girl name is geeta  Iss ladki neh normal ...  \n",
       "77   Respected Sir\\r\\n\\r\\nA very serious matter I w...  \n",
       "79   Someone has created a profile on app called ok...  \n",
       "92   Respected Sir\\r\\n\\r\\nA very serious matter I w...  \n",
       "94   In twitter we have seen illegally publishing a...  \n",
       "98   Respected Sir\\r\\n\\r\\nA very serious matter I w...  \n",
       "117  Respected Sir\\r\\n\\r\\nA very serious matter I w...  \n",
       "122  Someone post my nude on Instagram and when I a...  \n",
       "125  The particular user is making sexual videos ab...  \n",
       "129  Respected Sir\\r\\n\\r\\nA very serious matter I w...  "
      ]
     },
     "execution_count": 12,
     "metadata": {},
     "output_type": "execute_result"
    }
   ],
   "source": [
    "nan_sub_category = df[df['sub_category'].isna()]\n",
    "nan_sub_category.head(15)"
   ]
  },
  {
   "cell_type": "code",
   "execution_count": 13,
   "metadata": {},
   "outputs": [
    {
     "data": {
      "text/html": [
       "<div>\n",
       "<style scoped>\n",
       "    .dataframe tbody tr th:only-of-type {\n",
       "        vertical-align: middle;\n",
       "    }\n",
       "\n",
       "    .dataframe tbody tr th {\n",
       "        vertical-align: top;\n",
       "    }\n",
       "\n",
       "    .dataframe thead th {\n",
       "        text-align: right;\n",
       "    }\n",
       "</style>\n",
       "<table border=\"1\" class=\"dataframe\">\n",
       "  <thead>\n",
       "    <tr style=\"text-align: right;\">\n",
       "      <th></th>\n",
       "      <th>category</th>\n",
       "      <th>sub_category</th>\n",
       "      <th>crimeaditionalinfo</th>\n",
       "    </tr>\n",
       "  </thead>\n",
       "  <tbody>\n",
       "    <tr>\n",
       "      <th>0</th>\n",
       "      <td>Online and Social Media Related Crime</td>\n",
       "      <td>Cyber Bullying  Stalking  Sexting</td>\n",
       "      <td>I had continue received random calls and abusi...</td>\n",
       "    </tr>\n",
       "    <tr>\n",
       "      <th>1</th>\n",
       "      <td>Online Financial Fraud</td>\n",
       "      <td>Fraud CallVishing</td>\n",
       "      <td>The above fraudster is continuously messaging ...</td>\n",
       "    </tr>\n",
       "    <tr>\n",
       "      <th>2</th>\n",
       "      <td>Online Gambling  Betting</td>\n",
       "      <td>Online Gambling  Betting</td>\n",
       "      <td>He is acting like a police and demanding for m...</td>\n",
       "    </tr>\n",
       "    <tr>\n",
       "      <th>3</th>\n",
       "      <td>Online and Social Media Related Crime</td>\n",
       "      <td>Online Job Fraud</td>\n",
       "      <td>In apna Job I have applied for job interview f...</td>\n",
       "    </tr>\n",
       "    <tr>\n",
       "      <th>4</th>\n",
       "      <td>Online Financial Fraud</td>\n",
       "      <td>Fraud CallVishing</td>\n",
       "      <td>I received a call from lady stating that she w...</td>\n",
       "    </tr>\n",
       "    <tr>\n",
       "      <th>...</th>\n",
       "      <td>...</td>\n",
       "      <td>...</td>\n",
       "      <td>...</td>\n",
       "    </tr>\n",
       "    <tr>\n",
       "      <th>93681</th>\n",
       "      <td>Online Financial Fraud</td>\n",
       "      <td>Internet Banking Related Fraud</td>\n",
       "      <td>Identity theft   Smishing SMS Fraud  CreditDeb...</td>\n",
       "    </tr>\n",
       "    <tr>\n",
       "      <th>93682</th>\n",
       "      <td>Online Financial Fraud</td>\n",
       "      <td>EWallet Related Fraud</td>\n",
       "      <td>RECEIVED CALL FROM  NUMBER ASKING ABOUT phone ...</td>\n",
       "    </tr>\n",
       "    <tr>\n",
       "      <th>93683</th>\n",
       "      <td>Online Financial Fraud</td>\n",
       "      <td>UPI Related Frauds</td>\n",
       "      <td>Cyber Stalking   Blackmailing   PhoneSMSVOIP C...</td>\n",
       "    </tr>\n",
       "    <tr>\n",
       "      <th>93684</th>\n",
       "      <td>Online and Social Media Related Crime</td>\n",
       "      <td>Online Matrimonial Fraud</td>\n",
       "      <td>Call karke bola ki aapka lotary laga ha aru AC...</td>\n",
       "    </tr>\n",
       "    <tr>\n",
       "      <th>93685</th>\n",
       "      <td>Online Financial Fraud</td>\n",
       "      <td>Fraud CallVishing</td>\n",
       "      <td>There is app name koko loan app they send the ...</td>\n",
       "    </tr>\n",
       "  </tbody>\n",
       "</table>\n",
       "<p>93665 rows × 3 columns</p>\n",
       "</div>"
      ],
      "text/plain": [
       "                                    category  \\\n",
       "0      Online and Social Media Related Crime   \n",
       "1                     Online Financial Fraud   \n",
       "2                   Online Gambling  Betting   \n",
       "3      Online and Social Media Related Crime   \n",
       "4                     Online Financial Fraud   \n",
       "...                                      ...   \n",
       "93681                 Online Financial Fraud   \n",
       "93682                 Online Financial Fraud   \n",
       "93683                 Online Financial Fraud   \n",
       "93684  Online and Social Media Related Crime   \n",
       "93685                 Online Financial Fraud   \n",
       "\n",
       "                            sub_category  \\\n",
       "0      Cyber Bullying  Stalking  Sexting   \n",
       "1                      Fraud CallVishing   \n",
       "2               Online Gambling  Betting   \n",
       "3                       Online Job Fraud   \n",
       "4                      Fraud CallVishing   \n",
       "...                                  ...   \n",
       "93681     Internet Banking Related Fraud   \n",
       "93682              EWallet Related Fraud   \n",
       "93683                 UPI Related Frauds   \n",
       "93684           Online Matrimonial Fraud   \n",
       "93685                  Fraud CallVishing   \n",
       "\n",
       "                                      crimeaditionalinfo  \n",
       "0      I had continue received random calls and abusi...  \n",
       "1      The above fraudster is continuously messaging ...  \n",
       "2      He is acting like a police and demanding for m...  \n",
       "3      In apna Job I have applied for job interview f...  \n",
       "4      I received a call from lady stating that she w...  \n",
       "...                                                  ...  \n",
       "93681  Identity theft   Smishing SMS Fraud  CreditDeb...  \n",
       "93682  RECEIVED CALL FROM  NUMBER ASKING ABOUT phone ...  \n",
       "93683  Cyber Stalking   Blackmailing   PhoneSMSVOIP C...  \n",
       "93684  Call karke bola ki aapka lotary laga ha aru AC...  \n",
       "93685  There is app name koko loan app they send the ...  \n",
       "\n",
       "[93665 rows x 3 columns]"
      ]
     },
     "execution_count": 13,
     "metadata": {},
     "output_type": "execute_result"
    }
   ],
   "source": [
    "df"
   ]
  },
  {
   "cell_type": "code",
   "execution_count": 14,
   "metadata": {},
   "outputs": [
    {
     "data": {
      "text/html": [
       "<div>\n",
       "<style scoped>\n",
       "    .dataframe tbody tr th:only-of-type {\n",
       "        vertical-align: middle;\n",
       "    }\n",
       "\n",
       "    .dataframe tbody tr th {\n",
       "        vertical-align: top;\n",
       "    }\n",
       "\n",
       "    .dataframe thead th {\n",
       "        text-align: right;\n",
       "    }\n",
       "</style>\n",
       "<table border=\"1\" class=\"dataframe\">\n",
       "  <thead>\n",
       "    <tr style=\"text-align: right;\">\n",
       "      <th></th>\n",
       "      <th>category</th>\n",
       "      <th>sub_category</th>\n",
       "      <th>crimeaditionalinfo</th>\n",
       "    </tr>\n",
       "  </thead>\n",
       "  <tbody>\n",
       "    <tr>\n",
       "      <th>8</th>\n",
       "      <td>RapeGang Rape RGRSexually Abusive Content</td>\n",
       "      <td>NaN</td>\n",
       "      <td>I got the message on Whatsapp to my number The...</td>\n",
       "    </tr>\n",
       "    <tr>\n",
       "      <th>25</th>\n",
       "      <td>RapeGang Rape RGRSexually Abusive Content</td>\n",
       "      <td>NaN</td>\n",
       "      <td>Respected Sir\\r\\n\\r\\nA very serious matter I w...</td>\n",
       "    </tr>\n",
       "    <tr>\n",
       "      <th>39</th>\n",
       "      <td>Sexually Explicit Act</td>\n",
       "      <td>NaN</td>\n",
       "      <td>httpswwwxnxxtvvideousapbfuckkkarrr\\r\\n\\r\\n Abo...</td>\n",
       "    </tr>\n",
       "    <tr>\n",
       "      <th>45</th>\n",
       "      <td>Sexually Obscene material</td>\n",
       "      <td>NaN</td>\n",
       "      <td>Many fake accounts are created and Im sufferin...</td>\n",
       "    </tr>\n",
       "    <tr>\n",
       "      <th>49</th>\n",
       "      <td>Sexually Explicit Act</td>\n",
       "      <td>NaN</td>\n",
       "      <td>SirMaam \\r\\nThis is my third report on this re...</td>\n",
       "    </tr>\n",
       "    <tr>\n",
       "      <th>...</th>\n",
       "      <td>...</td>\n",
       "      <td>...</td>\n",
       "      <td>...</td>\n",
       "    </tr>\n",
       "    <tr>\n",
       "      <th>93632</th>\n",
       "      <td>Sexually Explicit Act</td>\n",
       "      <td>NaN</td>\n",
       "      <td>ob cash                                     ...</td>\n",
       "    </tr>\n",
       "    <tr>\n",
       "      <th>93648</th>\n",
       "      <td>Sexually Explicit Act</td>\n",
       "      <td>NaN</td>\n",
       "      <td>I got fraud by atm exchange in union bank of i...</td>\n",
       "    </tr>\n",
       "    <tr>\n",
       "      <th>93653</th>\n",
       "      <td>RapeGang Rape RGRSexually Abusive Content</td>\n",
       "      <td>NaN</td>\n",
       "      <td>Respected Sir\\r\\n\\r\\nA very serious matter I w...</td>\n",
       "    </tr>\n",
       "    <tr>\n",
       "      <th>93667</th>\n",
       "      <td>RapeGang Rape RGRSexually Abusive Content</td>\n",
       "      <td>NaN</td>\n",
       "      <td>Respected Sir\\r\\n\\r\\nA very serious matter I w...</td>\n",
       "    </tr>\n",
       "    <tr>\n",
       "      <th>93678</th>\n",
       "      <td>RapeGang Rape RGRSexually Abusive Content</td>\n",
       "      <td>NaN</td>\n",
       "      <td>Respected Sir\\r\\n\\r\\nA very serious matter I w...</td>\n",
       "    </tr>\n",
       "  </tbody>\n",
       "</table>\n",
       "<p>6591 rows × 3 columns</p>\n",
       "</div>"
      ],
      "text/plain": [
       "                                        category sub_category  \\\n",
       "8      RapeGang Rape RGRSexually Abusive Content          NaN   \n",
       "25     RapeGang Rape RGRSexually Abusive Content          NaN   \n",
       "39                         Sexually Explicit Act          NaN   \n",
       "45                     Sexually Obscene material          NaN   \n",
       "49                         Sexually Explicit Act          NaN   \n",
       "...                                          ...          ...   \n",
       "93632                      Sexually Explicit Act          NaN   \n",
       "93648                      Sexually Explicit Act          NaN   \n",
       "93653  RapeGang Rape RGRSexually Abusive Content          NaN   \n",
       "93667  RapeGang Rape RGRSexually Abusive Content          NaN   \n",
       "93678  RapeGang Rape RGRSexually Abusive Content          NaN   \n",
       "\n",
       "                                      crimeaditionalinfo  \n",
       "8      I got the message on Whatsapp to my number The...  \n",
       "25     Respected Sir\\r\\n\\r\\nA very serious matter I w...  \n",
       "39     httpswwwxnxxtvvideousapbfuckkkarrr\\r\\n\\r\\n Abo...  \n",
       "45     Many fake accounts are created and Im sufferin...  \n",
       "49     SirMaam \\r\\nThis is my third report on this re...  \n",
       "...                                                  ...  \n",
       "93632    ob cash                                     ...  \n",
       "93648  I got fraud by atm exchange in union bank of i...  \n",
       "93653  Respected Sir\\r\\n\\r\\nA very serious matter I w...  \n",
       "93667  Respected Sir\\r\\n\\r\\nA very serious matter I w...  \n",
       "93678  Respected Sir\\r\\n\\r\\nA very serious matter I w...  \n",
       "\n",
       "[6591 rows x 3 columns]"
      ]
     },
     "execution_count": 14,
     "metadata": {},
     "output_type": "execute_result"
    }
   ],
   "source": [
    "nan_sub_category = df[df['sub_category'].isna()]\n",
    "nan_sub_category"
   ]
  },
  {
   "cell_type": "code",
   "execution_count": 15,
   "metadata": {},
   "outputs": [
    {
     "data": {
      "text/plain": [
       "category                 0\n",
       "sub_category          6591\n",
       "crimeaditionalinfo       0\n",
       "dtype: int64"
      ]
     },
     "execution_count": 15,
     "metadata": {},
     "output_type": "execute_result"
    }
   ],
   "source": [
    "nan_sub_category.isnull().sum()"
   ]
  },
  {
   "cell_type": "markdown",
   "metadata": {},
   "source": [
    "## Replace NaN Sub Category with Appropriate value\n"
   ]
  },
  {
   "cell_type": "code",
   "execution_count": 16,
   "metadata": {},
   "outputs": [],
   "source": [
    "unique_categories = df[df['sub_category'].isna()]['category'].unique()\n",
    "unique_categories=unique_categories.tolist()"
   ]
  },
  {
   "cell_type": "code",
   "execution_count": 17,
   "metadata": {},
   "outputs": [
    {
     "data": {
      "text/plain": [
       "['RapeGang Rape RGRSexually Abusive Content',\n",
       " 'Sexually Explicit Act',\n",
       " 'Sexually Obscene material',\n",
       " 'Child Pornography CPChild Sexual Abuse Material CSAM']"
      ]
     },
     "execution_count": 17,
     "metadata": {},
     "output_type": "execute_result"
    }
   ],
   "source": [
    "unique_categories"
   ]
  },
  {
   "cell_type": "code",
   "execution_count": 18,
   "metadata": {},
   "outputs": [],
   "source": [
    "# Iterate through each unique category\n",
    "for category in unique_categories:\n",
    "    # Replace NaN in sub_category with the category name\n",
    "    df.loc[(df['sub_category'].isna()) & (df['category'] == category), 'sub_category'] = category\n",
    "    \n",
    "    # Add a new category label for Women/Child Related Crime\n",
    "    df.loc[(df['sub_category'] == category), 'category'] = 'Women/Child Related Crime'\n"
   ]
  },
  {
   "cell_type": "code",
   "execution_count": 19,
   "metadata": {},
   "outputs": [
    {
     "data": {
      "text/plain": [
       "category              0\n",
       "sub_category          0\n",
       "crimeaditionalinfo    0\n",
       "dtype: int64"
      ]
     },
     "execution_count": 19,
     "metadata": {},
     "output_type": "execute_result"
    }
   ],
   "source": [
    "df.isnull().sum()"
   ]
  },
  {
   "cell_type": "markdown",
   "metadata": {},
   "source": [
    "### So now there is not any NaN values in our dataset"
   ]
  },
  {
   "cell_type": "code",
   "execution_count": 20,
   "metadata": {},
   "outputs": [
    {
     "data": {
      "text/plain": [
       "array(['Online and Social Media Related Crime', 'Online Financial Fraud',\n",
       "       'Online Gambling  Betting', 'Women/Child Related Crime',\n",
       "       'Any Other Cyber Crime', 'Cyber Attack/ Dependent Crimes',\n",
       "       'Cryptocurrency Crime',\n",
       "       'Hacking  Damage to computercomputer system etc',\n",
       "       'Cyber Terrorism', 'Online Cyber Trafficking', 'Ransomware',\n",
       "       'Report Unlawful Content'], dtype=object)"
      ]
     },
     "execution_count": 20,
     "metadata": {},
     "output_type": "execute_result"
    }
   ],
   "source": [
    "df['category'].unique()"
   ]
  },
  {
   "cell_type": "markdown",
   "metadata": {},
   "source": [
    "#### As of now we can keep these all categories and no need to process this"
   ]
  },
  {
   "cell_type": "code",
   "execution_count": 21,
   "metadata": {},
   "outputs": [
    {
     "data": {
      "text/plain": [
       "array(['Cyber Bullying  Stalking  Sexting', 'Fraud CallVishing',\n",
       "       'Online Gambling  Betting', 'Online Job Fraud',\n",
       "       'UPI Related Frauds', 'Internet Banking Related Fraud',\n",
       "       'RapeGang Rape RGRSexually Abusive Content', 'Other',\n",
       "       'Profile Hacking Identity Theft',\n",
       "       'DebitCredit Card FraudSim Swap Fraud', 'EWallet Related Fraud',\n",
       "       'Data Breach/Theft', 'Cheating by Impersonation',\n",
       "       'Denial of Service (DoS)/Distributed Denial of Service (DDOS) attacks',\n",
       "       'FakeImpersonating Profile', 'Cryptocurrency Fraud',\n",
       "       'Sexually Explicit Act', 'Sexually Obscene material',\n",
       "       'Malware Attack', 'Business Email CompromiseEmail Takeover',\n",
       "       'Email Hacking', 'Hacking/Defacement',\n",
       "       'Unauthorised AccessData Breach', 'SQL Injection',\n",
       "       'Provocative Speech for unlawful acts', 'Ransomware Attack',\n",
       "       'Cyber Terrorism',\n",
       "       'Child Pornography CPChild Sexual Abuse Material CSAM',\n",
       "       'Tampering with computer source documents',\n",
       "       'DematDepository Fraud', 'Online Trafficking',\n",
       "       'Online Matrimonial Fraud', 'Website DefacementHacking',\n",
       "       'Damage to computer computer systems etc', 'Impersonating Email',\n",
       "       'EMail Phishing', 'Ransomware', 'Intimidating Email',\n",
       "       'Against Interest of sovereignty or integrity of India'],\n",
       "      dtype=object)"
      ]
     },
     "execution_count": 21,
     "metadata": {},
     "output_type": "execute_result"
    }
   ],
   "source": [
    "df['sub_category'].unique()"
   ]
  },
  {
   "cell_type": "code",
   "execution_count": 22,
   "metadata": {},
   "outputs": [
    {
     "data": {
      "text/plain": [
       "pandas.core.frame.DataFrame"
      ]
     },
     "execution_count": 22,
     "metadata": {},
     "output_type": "execute_result"
    }
   ],
   "source": [
    "type(df)"
   ]
  },
  {
   "cell_type": "code",
   "execution_count": 23,
   "metadata": {},
   "outputs": [
    {
     "data": {
      "text/plain": [
       "array(['Cyber Bullying/Stalking/Sexting', 'Fraud CallVishing',\n",
       "       'Online Gambling  Betting', 'Online Job Fraud',\n",
       "       'UPI Related Frauds', 'Internet Banking Related Fraud',\n",
       "       'RapeGang Rape RGRSexually Abusive Content', 'Other',\n",
       "       'Profile Hacking Identity Theft',\n",
       "       'DebitCredit Card FraudSim Swap Fraud', 'EWallet Related Fraud',\n",
       "       'Data Breach/Theft', 'Cheating by Impersonation',\n",
       "       'Denial of Service (DoS)/Distributed Denial of Service (DDOS) attacks',\n",
       "       'FakeImpersonating Profile', 'Cryptocurrency Fraud',\n",
       "       'Sexually Explicit Act', 'Sexually Obscene material',\n",
       "       'Malware Attack', 'Business Email CompromiseEmail Takeover',\n",
       "       'Email Hacking', 'Hacking/Defacement',\n",
       "       'Unauthorised AccessData Breach', 'SQL Injection',\n",
       "       'Provocative Speech for unlawful acts', 'Ransomware Attack',\n",
       "       'Cyber Terrorism',\n",
       "       'Child Pornography CPChild Sexual Abuse Material CSAM',\n",
       "       'Tampering with computer source documents',\n",
       "       'DematDepository Fraud', 'Online Trafficking',\n",
       "       'Online Matrimonial Fraud', 'Website DefacementHacking',\n",
       "       'Damage to computer computer systems etc', 'Impersonating Email',\n",
       "       'EMail Phishing', 'Ransomware', 'Intimidating Email',\n",
       "       'Against Interest of sovereignty or integrity of India'],\n",
       "      dtype=object)"
      ]
     },
     "execution_count": 23,
     "metadata": {},
     "output_type": "execute_result"
    }
   ],
   "source": [
    "df['sub_category']=df['sub_category'].replace('Cyber Bullying  Stalking  Sexting','Cyber Bullying/Stalking/Sexting')\n",
    "df['sub_category']=df['sub_category'].str.strip()\n",
    "df['sub_category'].unique()"
   ]
  },
  {
   "cell_type": "code",
   "execution_count": 24,
   "metadata": {},
   "outputs": [
    {
     "data": {
      "text/plain": [
       "array(['Cyber Bullying/Stalking/Sexting', 'Fraud Call/Vishing',\n",
       "       'Online Gambling  Betting', 'Online Job Fraud',\n",
       "       'UPI Related Frauds', 'Internet Banking Related Fraud',\n",
       "       'RapeGang Rape RGRSexually Abusive Content', 'Other',\n",
       "       'Profile Hacking Identity Theft',\n",
       "       'DebitCredit Card FraudSim Swap Fraud', 'EWallet Related Fraud',\n",
       "       'Data Breach/Theft', 'Cheating by Impersonation',\n",
       "       'Denial of Service (DoS)/Distributed Denial of Service (DDOS) attacks',\n",
       "       'FakeImpersonating Profile', 'Cryptocurrency Fraud',\n",
       "       'Sexually Explicit Act', 'Sexually Obscene material',\n",
       "       'Malware Attack', 'Business Email CompromiseEmail Takeover',\n",
       "       'Email Hacking', 'Hacking/Defacement',\n",
       "       'Unauthorised AccessData Breach', 'SQL Injection',\n",
       "       'Provocative Speech for unlawful acts', 'Ransomware Attack',\n",
       "       'Cyber Terrorism',\n",
       "       'Child Pornography CPChild Sexual Abuse Material CSAM',\n",
       "       'Tampering with computer source documents',\n",
       "       'DematDepository Fraud', 'Online Trafficking',\n",
       "       'Online Matrimonial Fraud', 'Website DefacementHacking',\n",
       "       'Damage to computer computer systems etc', 'Impersonating Email',\n",
       "       'EMail Phishing', 'Ransomware', 'Intimidating Email',\n",
       "       'Against Interest of sovereignty or integrity of India'],\n",
       "      dtype=object)"
      ]
     },
     "execution_count": 24,
     "metadata": {},
     "output_type": "execute_result"
    }
   ],
   "source": [
    "df['sub_category']=df['sub_category'].replace('Fraud CallVishing','Fraud Call/Vishing')\n",
    "df['sub_category']=df['sub_category'].str.strip()\n",
    "df['sub_category'].unique()"
   ]
  },
  {
   "cell_type": "code",
   "execution_count": 25,
   "metadata": {},
   "outputs": [
    {
     "data": {
      "text/plain": [
       "array(['Cyber Bullying/Stalking/Sexting', 'Fraud Call/Vishing',\n",
       "       'Online Gambling  Betting', 'Online Job Fraud',\n",
       "       'UPI Related Frauds', 'Internet Banking Related Fraud',\n",
       "       'Rape/Gang Rape-Sexually Abusive Content', 'Other',\n",
       "       'Profile Hacking Identity Theft',\n",
       "       'DebitCredit Card FraudSim Swap Fraud', 'EWallet Related Fraud',\n",
       "       'Data Breach/Theft', 'Cheating by Impersonation',\n",
       "       'Denial of Service (DoS)/Distributed Denial of Service (DDOS) attacks',\n",
       "       'FakeImpersonating Profile', 'Cryptocurrency Fraud',\n",
       "       'Sexually Explicit Act', 'Sexually Obscene material',\n",
       "       'Malware Attack', 'Business Email CompromiseEmail Takeover',\n",
       "       'Email Hacking', 'Hacking/Defacement',\n",
       "       'Unauthorised AccessData Breach', 'SQL Injection',\n",
       "       'Provocative Speech for unlawful acts', 'Ransomware Attack',\n",
       "       'Cyber Terrorism',\n",
       "       'Child Pornography CPChild Sexual Abuse Material CSAM',\n",
       "       'Tampering with computer source documents',\n",
       "       'DematDepository Fraud', 'Online Trafficking',\n",
       "       'Online Matrimonial Fraud', 'Website DefacementHacking',\n",
       "       'Damage to computer computer systems etc', 'Impersonating Email',\n",
       "       'EMail Phishing', 'Ransomware', 'Intimidating Email',\n",
       "       'Against Interest of sovereignty or integrity of India'],\n",
       "      dtype=object)"
      ]
     },
     "execution_count": 25,
     "metadata": {},
     "output_type": "execute_result"
    }
   ],
   "source": [
    "df['sub_category']=df['sub_category'].replace('RapeGang Rape RGRSexually Abusive Content','Rape/Gang Rape-Sexually Abusive Content')\n",
    "df['sub_category']=df['sub_category'].str.strip()\n",
    "df['sub_category'].unique()"
   ]
  },
  {
   "cell_type": "code",
   "execution_count": 26,
   "metadata": {},
   "outputs": [
    {
     "data": {
      "text/plain": [
       "array(['Cyber Bullying/Stalking/Sexting', 'Fraud Call/Vishing',\n",
       "       'Online Gambling  Betting', 'Online Job Fraud',\n",
       "       'UPI Related Frauds', 'Internet Banking Related Fraud',\n",
       "       'Rape/Gang Rape-Sexually Abusive Content', 'Other',\n",
       "       'Profile Hacking Identity Theft',\n",
       "       'Debit/Credit Card Fraud Or SIM Swap Fraud',\n",
       "       'EWallet Related Fraud', 'Data Breach/Theft',\n",
       "       'Cheating by Impersonation',\n",
       "       'Denial of Service (DoS)/Distributed Denial of Service (DDOS) attacks',\n",
       "       'FakeImpersonating Profile', 'Cryptocurrency Fraud',\n",
       "       'Sexually Explicit Act', 'Sexually Obscene material',\n",
       "       'Malware Attack', 'Business Email CompromiseEmail Takeover',\n",
       "       'Email Hacking', 'Hacking/Defacement',\n",
       "       'Unauthorised AccessData Breach', 'SQL Injection',\n",
       "       'Provocative Speech for unlawful acts', 'Ransomware Attack',\n",
       "       'Cyber Terrorism',\n",
       "       'Child Pornography CPChild Sexual Abuse Material CSAM',\n",
       "       'Tampering with computer source documents',\n",
       "       'DematDepository Fraud', 'Online Trafficking',\n",
       "       'Online Matrimonial Fraud', 'Website DefacementHacking',\n",
       "       'Damage to computer computer systems etc', 'Impersonating Email',\n",
       "       'EMail Phishing', 'Ransomware', 'Intimidating Email',\n",
       "       'Against Interest of sovereignty or integrity of India'],\n",
       "      dtype=object)"
      ]
     },
     "execution_count": 26,
     "metadata": {},
     "output_type": "execute_result"
    }
   ],
   "source": [
    "df['sub_category']=df['sub_category'].replace('DebitCredit Card FraudSim Swap Fraud','Debit/Credit Card Fraud Or SIM Swap Fraud')\n",
    "df['sub_category']=df['sub_category'].str.strip()\n",
    "df['sub_category'].unique()"
   ]
  },
  {
   "cell_type": "code",
   "execution_count": 27,
   "metadata": {},
   "outputs": [
    {
     "data": {
      "text/plain": [
       "array(['Cyber Bullying/Stalking/Sexting', 'Fraud Call/Vishing',\n",
       "       'Online Gambling  Betting', 'Online Job Fraud',\n",
       "       'UPI Related Frauds', 'Internet Banking Related Fraud',\n",
       "       'Rape/Gang Rape-Sexually Abusive Content', 'Other',\n",
       "       'Profile Hacking Identity Theft',\n",
       "       'Debit/Credit Card Fraud Or SIM Swap Fraud',\n",
       "       'EWallet Related Fraud', 'Data Breach/Theft',\n",
       "       'Cheating by Impersonation',\n",
       "       'Denial of Service (DoS)/Distributed Denial of Service (DDOS) attacks',\n",
       "       'FakeImpersonating Profile', 'Cryptocurrency Fraud',\n",
       "       'Sexually Explicit Act', 'Sexually Obscene material',\n",
       "       'Malware Attack', 'Business Email Compromise/Email Takeover',\n",
       "       'Email Hacking', 'Hacking/Defacement',\n",
       "       'Unauthorised AccessData Breach', 'SQL Injection',\n",
       "       'Provocative Speech for unlawful acts', 'Ransomware Attack',\n",
       "       'Cyber Terrorism',\n",
       "       'Child Pornography CPChild Sexual Abuse Material CSAM',\n",
       "       'Tampering with computer source documents',\n",
       "       'DematDepository Fraud', 'Online Trafficking',\n",
       "       'Online Matrimonial Fraud', 'Website DefacementHacking',\n",
       "       'Damage to computer computer systems etc', 'Impersonating Email',\n",
       "       'EMail Phishing', 'Ransomware', 'Intimidating Email',\n",
       "       'Against Interest of sovereignty or integrity of India'],\n",
       "      dtype=object)"
      ]
     },
     "execution_count": 27,
     "metadata": {},
     "output_type": "execute_result"
    }
   ],
   "source": [
    "df['sub_category']=df['sub_category'].replace('Business Email CompromiseEmail Takeover','Business Email Compromise/Email Takeover')\n",
    "df['sub_category']=df['sub_category'].str.strip()\n",
    "df['sub_category'].unique()"
   ]
  },
  {
   "cell_type": "code",
   "execution_count": 28,
   "metadata": {},
   "outputs": [
    {
     "data": {
      "text/plain": [
       "array(['Cyber Bullying/Stalking/Sexting', 'Fraud Call/Vishing',\n",
       "       'Online Gambling  Betting', 'Online Job Fraud',\n",
       "       'UPI Related Frauds', 'Internet Banking Related Fraud',\n",
       "       'Rape/Gang Rape-Sexually Abusive Content', 'Other',\n",
       "       'Profile Hacking Identity Theft',\n",
       "       'Debit/Credit Card Fraud Or SIM Swap Fraud',\n",
       "       'EWallet Related Fraud', 'Data Breach/Theft',\n",
       "       'Cheating by Impersonation',\n",
       "       'Denial of Service (DoS)/Distributed Denial of Service (DDOS) attacks',\n",
       "       'FakeImpersonating Profile', 'Cryptocurrency Fraud',\n",
       "       'Sexually Explicit Act', 'Sexually Obscene material',\n",
       "       'Malware Attack', 'Business Email Compromise/Email Takeover',\n",
       "       'Email Hacking', 'Hacking/Defacement',\n",
       "       'Unauthorised Access/Data Breach', 'SQL Injection',\n",
       "       'Provocative Speech for unlawful acts', 'Ransomware Attack',\n",
       "       'Cyber Terrorism',\n",
       "       'Child Pornography CPChild Sexual Abuse Material CSAM',\n",
       "       'Tampering with computer source documents',\n",
       "       'DematDepository Fraud', 'Online Trafficking',\n",
       "       'Online Matrimonial Fraud', 'Website DefacementHacking',\n",
       "       'Damage to computer computer systems etc', 'Impersonating Email',\n",
       "       'EMail Phishing', 'Ransomware', 'Intimidating Email',\n",
       "       'Against Interest of sovereignty or integrity of India'],\n",
       "      dtype=object)"
      ]
     },
     "execution_count": 28,
     "metadata": {},
     "output_type": "execute_result"
    }
   ],
   "source": [
    "df['sub_category']=df['sub_category'].replace('Unauthorised AccessData Breach','Unauthorised Access/Data Breach')\n",
    "df['sub_category']=df['sub_category'].str.strip()\n",
    "df['sub_category'].unique()"
   ]
  },
  {
   "cell_type": "code",
   "execution_count": 29,
   "metadata": {},
   "outputs": [
    {
     "data": {
      "text/plain": [
       "array(['Cyber Bullying/Stalking/Sexting', 'Fraud Call/Vishing',\n",
       "       'Online Gambling  Betting', 'Online Job Fraud',\n",
       "       'UPI Related Frauds', 'Internet Banking Related Fraud',\n",
       "       'Rape/Gang Rape-Sexually Abusive Content', 'Other',\n",
       "       'Profile Hacking Identity Theft',\n",
       "       'Debit/Credit Card Fraud Or SIM Swap Fraud',\n",
       "       'EWallet Related Fraud', 'Data Breach/Theft',\n",
       "       'Cheating by Impersonation',\n",
       "       'Denial of Service (DoS)/Distributed Denial of Service (DDOS) attacks',\n",
       "       'FakeImpersonating Profile', 'Cryptocurrency Fraud',\n",
       "       'Sexually Explicit Act', 'Sexually Obscene material',\n",
       "       'Malware Attack', 'Business Email Compromise/Email Takeover',\n",
       "       'Email Hacking', 'Hacking/Defacement',\n",
       "       'Unauthorised Access/Data Breach', 'SQL Injection',\n",
       "       'Provocative Speech for unlawful acts', 'Ransomware Attack',\n",
       "       'Cyber Terrorism',\n",
       "       'Child Pornography/Child Sexual Abuse Material (CSAM)',\n",
       "       'Tampering with computer source documents',\n",
       "       'DematDepository Fraud', 'Online Trafficking',\n",
       "       'Online Matrimonial Fraud', 'Website DefacementHacking',\n",
       "       'Damage to computer computer systems etc', 'Impersonating Email',\n",
       "       'EMail Phishing', 'Ransomware', 'Intimidating Email',\n",
       "       'Against Interest of sovereignty or integrity of India'],\n",
       "      dtype=object)"
      ]
     },
     "execution_count": 29,
     "metadata": {},
     "output_type": "execute_result"
    }
   ],
   "source": [
    "df['sub_category']=df['sub_category'].replace('Child Pornography CPChild Sexual Abuse Material CSAM','Child Pornography/Child Sexual Abuse Material (CSAM)')\n",
    "df['sub_category']=df['sub_category'].str.strip()\n",
    "df['sub_category'].unique()"
   ]
  },
  {
   "cell_type": "code",
   "execution_count": 30,
   "metadata": {},
   "outputs": [
    {
     "data": {
      "text/plain": [
       "array(['Cyber Bullying/Stalking/Sexting', 'Fraud Call/Vishing',\n",
       "       'Online Gambling  Betting', 'Online Job Fraud',\n",
       "       'UPI Related Frauds', 'Internet Banking Related Fraud',\n",
       "       'Rape/Gang Rape-Sexually Abusive Content', 'Other',\n",
       "       'Profile Hacking Identity Theft',\n",
       "       'Debit/Credit Card Fraud Or SIM Swap Fraud',\n",
       "       'EWallet Related Fraud', 'Data Breach/Theft',\n",
       "       'Cheating by Impersonation',\n",
       "       'Denial of Service (DoS)/Distributed Denial of Service (DDOS) attacks',\n",
       "       'FakeImpersonating Profile', 'Cryptocurrency Fraud',\n",
       "       'Sexually Explicit Act', 'Sexually Obscene material',\n",
       "       'Malware Attack', 'Business Email Compromise/Email Takeover',\n",
       "       'Email Hacking', 'Hacking/Defacement',\n",
       "       'Unauthorised Access/Data Breach', 'SQL Injection',\n",
       "       'Provocative Speech for unlawful acts', 'Ransomware Attack',\n",
       "       'Cyber Terrorism',\n",
       "       'Child Pornography/Child Sexual Abuse Material (CSAM)',\n",
       "       'Tampering with computer source documents',\n",
       "       'Demat/Depository Fraud', 'Online Trafficking',\n",
       "       'Online Matrimonial Fraud', 'Website DefacementHacking',\n",
       "       'Damage to computer computer systems etc', 'Impersonating Email',\n",
       "       'EMail Phishing', 'Ransomware', 'Intimidating Email',\n",
       "       'Against Interest of sovereignty or integrity of India'],\n",
       "      dtype=object)"
      ]
     },
     "execution_count": 30,
     "metadata": {},
     "output_type": "execute_result"
    }
   ],
   "source": [
    "df['sub_category']=df['sub_category'].replace('DematDepository Fraud','Demat/Depository Fraud')\n",
    "df['sub_category']=df['sub_category'].str.strip()\n",
    "df['sub_category'].unique()"
   ]
  },
  {
   "cell_type": "code",
   "execution_count": 31,
   "metadata": {},
   "outputs": [
    {
     "data": {
      "text/plain": [
       "array(['Cyber Bullying/Stalking/Sexting', 'Fraud Call/Vishing',\n",
       "       'Online Gambling  Betting', 'Online Job Fraud',\n",
       "       'UPI Related Frauds', 'Internet Banking Related Fraud',\n",
       "       'Rape/Gang Rape-Sexually Abusive Content', 'Other',\n",
       "       'Profile Hacking Identity Theft',\n",
       "       'Debit/Credit Card Fraud Or SIM Swap Fraud',\n",
       "       'EWallet Related Fraud', 'Data Breach/Theft',\n",
       "       'Cheating by Impersonation',\n",
       "       'Denial of Service (DoS)/Distributed Denial of Service (DDOS) attacks',\n",
       "       'FakeImpersonating Profile', 'Cryptocurrency Fraud',\n",
       "       'Sexually Explicit Act', 'Sexually Obscene material',\n",
       "       'Malware Attack', 'Business Email Compromise/Email Takeover',\n",
       "       'Email Hacking', 'Hacking/Defacement',\n",
       "       'Unauthorised Access/Data Breach', 'SQL Injection',\n",
       "       'Provocative Speech for unlawful acts', 'Ransomware Attack',\n",
       "       'Cyber Terrorism',\n",
       "       'Child Pornography/Child Sexual Abuse Material (CSAM)',\n",
       "       'Tampering with computer source documents',\n",
       "       'Demat/Depository Fraud', 'Online Trafficking',\n",
       "       'Online Matrimonial Fraud', 'Defacement/Hacking',\n",
       "       'Damage to computer computer systems etc', 'Impersonating Email',\n",
       "       'EMail Phishing', 'Ransomware', 'Intimidating Email',\n",
       "       'Against Interest of sovereignty or integrity of India'],\n",
       "      dtype=object)"
      ]
     },
     "execution_count": 31,
     "metadata": {},
     "output_type": "execute_result"
    }
   ],
   "source": [
    "df['sub_category']=df['sub_category'].replace('Website DefacementHacking','Defacement/Hacking')\n",
    "df['sub_category']=df['sub_category'].str.strip()\n",
    "df['sub_category'].unique()"
   ]
  },
  {
   "cell_type": "code",
   "execution_count": 32,
   "metadata": {},
   "outputs": [
    {
     "data": {
      "text/plain": [
       "array(['Cyber Bullying/Stalking/Sexting', 'Fraud Call/Vishing',\n",
       "       'Online Gambling  Betting', 'Online Job Fraud',\n",
       "       'UPI Related Frauds', 'Internet Banking Related Fraud',\n",
       "       'Rape/Gang Rape-Sexually Abusive Content', 'Other',\n",
       "       'Profile Hacking Identity Theft',\n",
       "       'Debit/Credit Card Fraud Or SIM Swap Fraud',\n",
       "       'EWallet Related Fraud', 'Data Breach/Theft',\n",
       "       'Cheating by Impersonation',\n",
       "       'Denial of Service (DoS)/Distributed Denial of Service (DDOS) attacks',\n",
       "       'FakeImpersonating Profile', 'Cryptocurrency Fraud',\n",
       "       'Sexually Explicit Act', 'Sexually Obscene material',\n",
       "       'Malware Attack', 'Business Email Compromise/Email Takeover',\n",
       "       'Email Hacking', 'Hacking/Defacement',\n",
       "       'Unauthorised Access/Data Breach', 'SQL Injection',\n",
       "       'Provocative Speech for unlawful acts', 'Ransomware Attack',\n",
       "       'Cyber Terrorism',\n",
       "       'Child Pornography/Child Sexual Abuse Material (CSAM)',\n",
       "       'Tampering with computer source documents',\n",
       "       'Demat/Depository Fraud', 'Online Trafficking',\n",
       "       'Online Matrimonial Fraud', 'Defacement/Hacking',\n",
       "       'Damage to Computer Systems', 'Impersonating Email',\n",
       "       'EMail Phishing', 'Ransomware', 'Intimidating Email',\n",
       "       'Against Interest of sovereignty or integrity of India'],\n",
       "      dtype=object)"
      ]
     },
     "execution_count": 32,
     "metadata": {},
     "output_type": "execute_result"
    }
   ],
   "source": [
    "df['sub_category']=df['sub_category'].replace('Damage to computer computer systems etc','Damage to Computer Systems')\n",
    "df['sub_category']=df['sub_category'].str.strip()\n",
    "df['sub_category'].unique()"
   ]
  },
  {
   "cell_type": "markdown",
   "metadata": {},
   "source": [
    "## Now we process the creminalinfo data"
   ]
  },
  {
   "cell_type": "code",
   "execution_count": 33,
   "metadata": {},
   "outputs": [
    {
     "data": {
      "text/plain": [
       "category              0\n",
       "sub_category          0\n",
       "crimeaditionalinfo    0\n",
       "dtype: int64"
      ]
     },
     "execution_count": 33,
     "metadata": {},
     "output_type": "execute_result"
    }
   ],
   "source": [
    "df.isnull().sum()"
   ]
  },
  {
   "cell_type": "markdown",
   "metadata": {},
   "source": [
    "## Now we lower the all the data it is good keep data in one case"
   ]
  },
  {
   "cell_type": "code",
   "execution_count": 34,
   "metadata": {},
   "outputs": [],
   "source": [
    "df['crimeaditionalinfo']=df['crimeaditionalinfo'].str.lower()\n",
    "df['category']=df['category'].str.lower()\n",
    "df['sub_category']=df['sub_category'].str.lower()\n"
   ]
  },
  {
   "cell_type": "code",
   "execution_count": 35,
   "metadata": {},
   "outputs": [
    {
     "data": {
      "text/html": [
       "<div>\n",
       "<style scoped>\n",
       "    .dataframe tbody tr th:only-of-type {\n",
       "        vertical-align: middle;\n",
       "    }\n",
       "\n",
       "    .dataframe tbody tr th {\n",
       "        vertical-align: top;\n",
       "    }\n",
       "\n",
       "    .dataframe thead th {\n",
       "        text-align: right;\n",
       "    }\n",
       "</style>\n",
       "<table border=\"1\" class=\"dataframe\">\n",
       "  <thead>\n",
       "    <tr style=\"text-align: right;\">\n",
       "      <th></th>\n",
       "      <th>category</th>\n",
       "      <th>sub_category</th>\n",
       "      <th>crimeaditionalinfo</th>\n",
       "    </tr>\n",
       "  </thead>\n",
       "  <tbody>\n",
       "    <tr>\n",
       "      <th>0</th>\n",
       "      <td>online and social media related crime</td>\n",
       "      <td>cyber bullying/stalking/sexting</td>\n",
       "      <td>i had continue received random calls and abusi...</td>\n",
       "    </tr>\n",
       "    <tr>\n",
       "      <th>1</th>\n",
       "      <td>online financial fraud</td>\n",
       "      <td>fraud call/vishing</td>\n",
       "      <td>the above fraudster is continuously messaging ...</td>\n",
       "    </tr>\n",
       "    <tr>\n",
       "      <th>2</th>\n",
       "      <td>online gambling  betting</td>\n",
       "      <td>online gambling  betting</td>\n",
       "      <td>he is acting like a police and demanding for m...</td>\n",
       "    </tr>\n",
       "    <tr>\n",
       "      <th>3</th>\n",
       "      <td>online and social media related crime</td>\n",
       "      <td>online job fraud</td>\n",
       "      <td>in apna job i have applied for job interview f...</td>\n",
       "    </tr>\n",
       "    <tr>\n",
       "      <th>4</th>\n",
       "      <td>online financial fraud</td>\n",
       "      <td>fraud call/vishing</td>\n",
       "      <td>i received a call from lady stating that she w...</td>\n",
       "    </tr>\n",
       "    <tr>\n",
       "      <th>...</th>\n",
       "      <td>...</td>\n",
       "      <td>...</td>\n",
       "      <td>...</td>\n",
       "    </tr>\n",
       "    <tr>\n",
       "      <th>93681</th>\n",
       "      <td>online financial fraud</td>\n",
       "      <td>internet banking related fraud</td>\n",
       "      <td>identity theft   smishing sms fraud  creditdeb...</td>\n",
       "    </tr>\n",
       "    <tr>\n",
       "      <th>93682</th>\n",
       "      <td>online financial fraud</td>\n",
       "      <td>ewallet related fraud</td>\n",
       "      <td>received call from  number asking about phone ...</td>\n",
       "    </tr>\n",
       "    <tr>\n",
       "      <th>93683</th>\n",
       "      <td>online financial fraud</td>\n",
       "      <td>upi related frauds</td>\n",
       "      <td>cyber stalking   blackmailing   phonesmsvoip c...</td>\n",
       "    </tr>\n",
       "    <tr>\n",
       "      <th>93684</th>\n",
       "      <td>online and social media related crime</td>\n",
       "      <td>online matrimonial fraud</td>\n",
       "      <td>call karke bola ki aapka lotary laga ha aru ac...</td>\n",
       "    </tr>\n",
       "    <tr>\n",
       "      <th>93685</th>\n",
       "      <td>online financial fraud</td>\n",
       "      <td>fraud call/vishing</td>\n",
       "      <td>there is app name koko loan app they send the ...</td>\n",
       "    </tr>\n",
       "  </tbody>\n",
       "</table>\n",
       "<p>93665 rows × 3 columns</p>\n",
       "</div>"
      ],
      "text/plain": [
       "                                    category                     sub_category  \\\n",
       "0      online and social media related crime  cyber bullying/stalking/sexting   \n",
       "1                     online financial fraud               fraud call/vishing   \n",
       "2                   online gambling  betting         online gambling  betting   \n",
       "3      online and social media related crime                 online job fraud   \n",
       "4                     online financial fraud               fraud call/vishing   \n",
       "...                                      ...                              ...   \n",
       "93681                 online financial fraud   internet banking related fraud   \n",
       "93682                 online financial fraud            ewallet related fraud   \n",
       "93683                 online financial fraud               upi related frauds   \n",
       "93684  online and social media related crime         online matrimonial fraud   \n",
       "93685                 online financial fraud               fraud call/vishing   \n",
       "\n",
       "                                      crimeaditionalinfo  \n",
       "0      i had continue received random calls and abusi...  \n",
       "1      the above fraudster is continuously messaging ...  \n",
       "2      he is acting like a police and demanding for m...  \n",
       "3      in apna job i have applied for job interview f...  \n",
       "4      i received a call from lady stating that she w...  \n",
       "...                                                  ...  \n",
       "93681  identity theft   smishing sms fraud  creditdeb...  \n",
       "93682  received call from  number asking about phone ...  \n",
       "93683  cyber stalking   blackmailing   phonesmsvoip c...  \n",
       "93684  call karke bola ki aapka lotary laga ha aru ac...  \n",
       "93685  there is app name koko loan app they send the ...  \n",
       "\n",
       "[93665 rows x 3 columns]"
      ]
     },
     "execution_count": 35,
     "metadata": {},
     "output_type": "execute_result"
    }
   ],
   "source": [
    "df"
   ]
  },
  {
   "cell_type": "code",
   "execution_count": 36,
   "metadata": {},
   "outputs": [],
   "source": [
    "df.to_csv('../processed_data/processed_train.csv', index=False)\n"
   ]
  },
  {
   "cell_type": "code",
   "execution_count": 37,
   "metadata": {},
   "outputs": [
    {
     "name": "stdout",
     "output_type": "stream",
     "text": [
      "sub_category\n",
      "upi related frauds                                                      26843\n",
      "other                                                                   10877\n",
      "debit/credit card fraud or sim swap fraud                               10802\n",
      "internet banking related fraud                                           8871\n",
      "fraud call/vishing                                                       5802\n",
      "cyber bullying/stalking/sexting                                          4089\n",
      "ewallet related fraud                                                    4047\n",
      "rape/gang rape-sexually abusive content                                  2822\n",
      "fakeimpersonating profile                                                2299\n",
      "profile hacking identity theft                                           2072\n",
      "cheating by impersonation                                                1987\n",
      "sexually obscene material                                                1838\n",
      "sexually explicit act                                                    1552\n",
      "unauthorised access/data breach                                          1114\n",
      "online job fraud                                                          912\n",
      "demat/depository fraud                                                    761\n",
      "tampering with computer source documents                                  567\n",
      "hacking/defacement                                                        540\n",
      "ransomware attack                                                         534\n",
      "malware attack                                                            521\n",
      "sql injection                                                             508\n",
      "denial of service (dos)/distributed denial of service (ddos) attacks      504\n",
      "data breach/theft                                                         484\n",
      "cryptocurrency fraud                                                      480\n",
      "online gambling  betting                                                  444\n",
      "provocative speech for unlawful acts                                      417\n",
      "child pornography/child sexual abuse material (csam)                      379\n",
      "email hacking                                                             349\n",
      "business email compromise/email takeover                                  290\n",
      "online trafficking                                                        183\n",
      "cyber terrorism                                                           161\n",
      "email phishing                                                            157\n",
      "online matrimonial fraud                                                  132\n",
      "damage to computer systems                                                108\n",
      "defacement/hacking                                                         89\n",
      "ransomware                                                                 56\n",
      "impersonating email                                                        44\n",
      "intimidating email                                                         29\n",
      "against interest of sovereignty or integrity of india                       1\n",
      "Name: count, dtype: int64\n",
      "category\n",
      "online financial fraud                            57416\n",
      "online and social media related crime             12138\n",
      "any other cyber crime                             10877\n",
      "women/child related crime                          6591\n",
      "cyber attack/ dependent crimes                     3608\n",
      "hacking  damage to computercomputer system etc     1710\n",
      "cryptocurrency crime                                480\n",
      "online gambling  betting                            444\n",
      "online cyber trafficking                            183\n",
      "cyber terrorism                                     161\n",
      "ransomware                                           56\n",
      "report unlawful content                               1\n",
      "Name: count, dtype: int64\n"
     ]
    }
   ],
   "source": [
    "# Check class distribution in training set\n",
    "print(df['sub_category'].value_counts())\n",
    "print(df['category'].value_counts())"
   ]
  },
  {
   "cell_type": "code",
   "execution_count": null,
   "metadata": {},
   "outputs": [],
   "source": []
  }
 ],
 "metadata": {
  "kernelspec": {
   "display_name": "Python 3",
   "language": "python",
   "name": "python3"
  },
  "language_info": {
   "codemirror_mode": {
    "name": "ipython",
    "version": 3
   },
   "file_extension": ".py",
   "mimetype": "text/x-python",
   "name": "python",
   "nbconvert_exporter": "python",
   "pygments_lexer": "ipython3",
   "version": "3.12.3"
  }
 },
 "nbformat": 4,
 "nbformat_minor": 2
}
